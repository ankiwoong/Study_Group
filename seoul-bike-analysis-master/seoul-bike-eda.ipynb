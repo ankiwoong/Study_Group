{
 "cells": [
  {
   "cell_type": "markdown",
   "metadata": {},
   "source": [
    "[![Open In Colab](https://colab.research.google.com/assets/colab-badge.svg)](https://colab.research.google.com/github/corazzon/seoul-bike-analysis/blob/master/seoul-bike-eda.ipynb)"
   ]
  },
  {
   "cell_type": "markdown",
   "metadata": {},
   "source": [
    "# 서울특별시 공공자전거 따릉이 대여이력 분석\n",
    "* [miningful/seoulbike: 따릉이 따세권EDA](https://github.com/miningful/seoulbike)에서 흥미를 얻어 분석을 시작하게 됨\n",
    "\n",
    "## 데이터 출처 :\n",
    "* 서울특별시 공공자전거 대여이력 정보\n",
    "http://data.seoul.go.kr/dataList/datasetView.do?infId=OA-15182&srvType=F&serviceKind=1&currentPageNo=1\n",
    "\n",
    "* `(이달의주요공개정보)_서울_공공자전거(따릉이)_이용현황 자료(161021).xlsx (1.24MB)`\n",
    "https://opengov.seoul.go.kr/anspruch/10045476\n",
    "\n",
    "\n",
    "## 관련자료 \n",
    "* [(석간) 서울시 따릉이 회원 62만 돌파 출 퇴근시간 38% 집중](http://spp.seoul.go.kr/main/news/news_report.jsp#view/253821)\n",
    "* [공공자전거 따릉이 인기 따라 '따세권' 형성…소외지역도 :: 공감언론 뉴시스통신사 ::](http://www.newsis.com/view/?id=NISX20180706_0000356247&cID=10201&pID=10200)\n",
    "* [서울특별시 빅데이터 캠퍼스 > 분석결과/사례공유 > 서울시 분석사례 > 서울시 자전거 이동경로 분석](https://bigdata.seoul.go.kr/noti/selectNoti.do?r_id=P430&bbs_seq=229&sch_type=&sch_text=&currentPage=1)\n",
    "* [따릉이 편리하게 이용하기 위한 14가지 | 서울시 정보소통광장(정보공개)](https://opengov.seoul.go.kr/mediahub/15085803)"
   ]
  },
  {
   "cell_type": "code",
   "execution_count": null,
   "metadata": {},
   "outputs": [],
   "source": [
    "# 노트북이 간결해 보이도록 경고 문구는 출력되지 않도록 함\n",
    "# 프로그래밍에 익숙하다면 경고 문구도 출력해서 보도록 한다. \n",
    "# 하지만 익숙하지 않다면 당황하지 않기 위해 경고 메시지는 찍히지 않도록 한다.\n",
    "import warnings\n",
    "warnings.simplefilter(action='ignore', category=FutureWarning)"
   ]
  },
  {
   "cell_type": "markdown",
   "metadata": {},
   "source": [
    "## 사용할 도구 가져오기"
   ]
  },
  {
   "cell_type": "code",
   "execution_count": null,
   "metadata": {},
   "outputs": [],
   "source": [
    "import pandas as pd\n",
    "import numpy as np\n",
    "import seaborn as sns"
   ]
  },
  {
   "cell_type": "markdown",
   "metadata": {},
   "source": [
    "### 시각화 도구 설정"
   ]
  },
  {
   "cell_type": "code",
   "execution_count": null,
   "metadata": {},
   "outputs": [],
   "source": [
    "import matplotlib.pyplot as plt\n",
    "from IPython.display import set_matplotlib_formats\n",
    "# Window 의 한글 폰트 설정\n",
    "# plt.rc('font',family='Malgun Gothic')\n",
    "# Mac 의 한글 폰트 설정\n",
    "plt.rc('font', family='AppleGothic') \n",
    "plt.rc('axes', unicode_minus=False)\n",
    "\n",
    "set_matplotlib_formats('retina')\n",
    "\n",
    "\n",
    "# 그래프가 노트북 안에 보이게 하기 위해\n",
    "%matplotlib inline"
   ]
  },
  {
   "cell_type": "markdown",
   "metadata": {},
   "source": [
    "## Colab 에서 실행을 위한 코드\n",
    "\n",
    "* https://colab.research.google.com/github/corazzon/seoul-bike-analysis/blob/master/seoul-bike-eda.ipynb\n",
    "* 아래의 코드는 google colaboratory 에서 실행을 위한 코드로 로컬 아나콘다에서는 주석처리한다.\n",
    "* google colaboratory 에서는 주석을 풀고 폰트 설정과 csv 파일을 불러온다."
   ]
  },
  {
   "cell_type": "code",
   "execution_count": null,
   "metadata": {},
   "outputs": [],
   "source": [
    "# # 나눔고딕 설치\n",
    "# !apt -qq -y install fonts-nanum > /dev/null\n",
    "\n",
    "# import matplotlib.font_manager as fm\n",
    "\n",
    "# fontpath = '/usr/share/fonts/truetype/nanum/NanumBarunGothic.ttf'\n",
    "# font = fm.FontProperties(fname=fontpath, size=9)\n",
    "# fm._rebuild()\n",
    "\n",
    "# # 그래프에 retina display 적용\n",
    "# %config InlineBackend.figure_format = 'retina'\n",
    "\n",
    "# # Colab 의 한글 폰트 설정\n",
    "# plt.rc('font', family='NanumBarunGothic') "
   ]
  },
  {
   "cell_type": "code",
   "execution_count": null,
   "metadata": {},
   "outputs": [],
   "source": [
    "# # 구글 드라이브에서 csv 파일을 읽어오기 위해 gauth 인증을 한다.\n",
    "# !pip install -U -q PyDrive\n",
    "# from pydrive.auth import GoogleAuth\n",
    "# from pydrive.drive import GoogleDrive\n",
    "# from google.colab import auth\n",
    "# from oauth2client.client import GoogleCredentials\n",
    "\n",
    "# # PyDrive client 인증\n",
    "# auth.authenticate_user()\n",
    "# gauth = GoogleAuth()\n",
    "# gauth.credentials = GoogleCredentials.get_application_default()\n",
    "# drive = GoogleDrive(gauth)"
   ]
  },
  {
   "cell_type": "code",
   "execution_count": null,
   "metadata": {},
   "outputs": [],
   "source": [
    "# # 공유 가능한 링크로 파일 가져오기 - 대여정보\n",
    "# url ='https://drive.google.com/open?id=1YCIUZohmLJCVMtBhYpZf5aVnYGJC1USn'\n",
    "# id = url.split('=')[1]\n",
    "# print(id)\n",
    "# downloaded = drive.CreateFile({'id':id}) \n",
    "# # data 폴더에 파일을 관리하며, 폴더가 없다면 만들어서 파일을 관리하도록 한다.\n",
    "# %mkdir data\n",
    "# downloaded.GetContentFile('data/seoul-bike-2016.csv')  "
   ]
  },
  {
   "cell_type": "code",
   "execution_count": null,
   "metadata": {},
   "outputs": [],
   "source": [
    "# # 공유 가능한 링크로 파일 가져오기 - 대여소 정보\n",
    "# url ='https://drive.google.com/open?id=1PbU3obWSNc7ADD2sAF2Anhb9HYH8JsDL'\n",
    "# id = url.split('=')[1]\n",
    "# print(id)\n",
    "# downloaded = drive.CreateFile({'id':id}) \n",
    "# downloaded.GetContentFile('data/seoul_bike_station.csv')  "
   ]
  },
  {
   "cell_type": "markdown",
   "metadata": {},
   "source": [
    "## 데이터 불러오기\n",
    "* 서울시정보소통광장에서 다운로드 받은 csv파일과 크롤링해온 대여소 정보가 있다.\n",
    "* 이 노트북에서는 전체 데이터 중 일부 데이터만을 사용해서 특정 시기의 데이터만 분석해 보고 점점 더 큰 데이터를 로드해서 분석한다."
   ]
  },
  {
   "cell_type": "code",
   "execution_count": null,
   "metadata": {},
   "outputs": [],
   "source": [
    "# df = pd.read_csv('data/서울특별시 공공자전거 대여이력 정보_2018년_2분기_4.csv', encoding='cp949')\n",
    "# 2018년 2분기까지의 데이터를 보고 싶다면 아래 파일을 불러온다.\n",
    "%time df = pd.read_csv('data/seoul-bike-2016.csv', low_memory=False)\n",
    "df.shape"
   ]
  },
  {
   "cell_type": "markdown",
   "metadata": {},
   "source": [
    "## 데이터 미리보기 및 요약하기\n",
    "* head와 tail을 통해 데이터 미리보기를 해볼 수 있다.\n",
    "* head는 데이터의 윗부분을 tail은 데이터의 하단부를 미리보기 해준다. \n",
    "* 괄호안에 숫자를 넣어주면 해당 숫자만큼의 데이터를 가져온다. 기본값은 5이다."
   ]
  },
  {
   "cell_type": "code",
   "execution_count": null,
   "metadata": {},
   "outputs": [],
   "source": [
    "df.head()"
   ]
  },
  {
   "cell_type": "code",
   "execution_count": null,
   "metadata": {},
   "outputs": [],
   "source": [
    "df.tail()"
   ]
  },
  {
   "cell_type": "markdown",
   "metadata": {},
   "source": [
    "* info를 사용하면 해당 데이터의 요약정보를 볼 수 있다.\n",
    "* 데이터의 갯수와 데이터의 타입, 크기 등을 볼 수 있다."
   ]
  },
  {
   "cell_type": "code",
   "execution_count": null,
   "metadata": {},
   "outputs": [],
   "source": [
    "df.info()"
   ]
  },
  {
   "cell_type": "code",
   "execution_count": null,
   "metadata": {},
   "outputs": [],
   "source": [
    "df[[\"이용시간(분)\", \"이용거리(M)\"]].describe()"
   ]
  },
  {
   "cell_type": "code",
   "execution_count": null,
   "metadata": {},
   "outputs": [],
   "source": [
    "df.describe(include=np.object)"
   ]
  },
  {
   "cell_type": "markdown",
   "metadata": {},
   "source": [
    "## 분석을 위한 전처리\n",
    "* 위에서 데이터를 미리보기 했을 때 컬럼과 데이터에 불필요한 홑따옴표가 포함되어 있다.\n",
    "* 전처리를 통해 제거해 준다.\n",
    "* object 타입의 데이터에는 모두 홑따옴표가 들어가 있다. 따라서 object 데이터 타입이라면 홑따옴표를 제거해 주도록 한다.\n",
    "* 아래 코드는 데이터를 병합하면서 처리했다. 병합 전의 데이터를 불러와서 전처리 하고자 할 때는 주석을 풀고 사용하면 된다."
   ]
  },
  {
   "cell_type": "code",
   "execution_count": null,
   "metadata": {},
   "outputs": [],
   "source": [
    "# 컬럼에 있는 '를 제거한다.\n",
    "# df.columns = df.columns.str.strip(\"'\")"
   ]
  },
  {
   "cell_type": "code",
   "execution_count": null,
   "metadata": {},
   "outputs": [],
   "source": [
    "# 일부 데이터에 불필요하게 '가 들어가 있다. 스트링 타입으로 되어있는 데이터에서 '을 제거하자.\n",
    "# 2018년 전체 데이터를 모아놓은 csv에서는 미리 제거해서 넣어두었다.\n",
    "# 다른 파일을 가져와서 분석할 때 아래 코드를 활용한다.\n",
    "# df = df.apply(lambda x: x.str.strip(\"'\") if x.dtype == np.dtype('object') else x)\n",
    "\n",
    "# 다음의 방법으로 제거할 수도 있다.\n",
    "# df.iloc[:, :4] = df.iloc[:, :4].apply(lambda x: x.str.strip(\"'\"))\n",
    "# df.iloc[:, 5:8] = df.iloc[:, 5:8].apply(lambda x: x.str.strip(\"'\"))"
   ]
  },
  {
   "cell_type": "markdown",
   "metadata": {},
   "source": [
    "## 결측치 보기"
   ]
  },
  {
   "cell_type": "code",
   "execution_count": null,
   "metadata": {},
   "outputs": [],
   "source": [
    "df.isnull().sum()"
   ]
  },
  {
   "cell_type": "markdown",
   "metadata": {},
   "source": [
    "## 결측치 시각화 하기\n",
    "* missingno는 별도로 설치해야 하는 시각화 도구 입니다. 결측치를 시각화해서 볼 수 있다."
   ]
  },
  {
   "cell_type": "code",
   "execution_count": null,
   "metadata": {},
   "outputs": [],
   "source": [
    "# 아나콘다에서 missingno 설치가 안 되어 있다면 다음의 명령으로 설치합니다.\n",
    "# https://anaconda.org/conda-forge/missingno\n",
    "# conda install -c conda-forge missingno\n",
    "\n",
    "# 결측치 보기\n",
    "import missingno as msno\n",
    "\n",
    "msno.matrix(df, figsize=(12,5))"
   ]
  },
  {
   "cell_type": "markdown",
   "metadata": {},
   "source": [
    "## 대여소별 대여|반납 현황"
   ]
  },
  {
   "cell_type": "code",
   "execution_count": null,
   "metadata": {},
   "outputs": [],
   "source": [
    "print('# 대여소 수')\n",
    "print('대여 대여소: ', df['대여대여소번호'].unique().shape[0])\n",
    "print('반납 대여소: ', df['반납대여소번호'].unique().shape[0])"
   ]
  },
  {
   "cell_type": "code",
   "execution_count": null,
   "metadata": {},
   "outputs": [],
   "source": [
    "df['대여대여소번호'].value_counts().tail(10)"
   ]
  },
  {
   "cell_type": "markdown",
   "metadata": {},
   "source": [
    "* 대여 대여소번호에 상암센터 정비실과 위트콤 같은 숫자가 아닌 곳들이 있음"
   ]
  },
  {
   "cell_type": "code",
   "execution_count": null,
   "metadata": {},
   "outputs": [],
   "source": [
    "# 대여량이 많은 상위 대여소\n",
    "df['대여대여소명'].value_counts().head(10)"
   ]
  },
  {
   "cell_type": "code",
   "execution_count": null,
   "metadata": {},
   "outputs": [],
   "source": [
    "# 반납량이 많은 상위 대여소\n",
    "df['반납대여소명'].value_counts().head(10)"
   ]
  },
  {
   "cell_type": "markdown",
   "metadata": {},
   "source": [
    "1. 대여반납이 많은 상위 대여소인 홍대입구역, 여의나루역, 뚝섬유원지, 롯데월드타워는 모두 강이나 호수를 인근에 두고 있다. \n",
    "2. 성대입구나 안암로터리 버스정류장은 대학가 인근이다."
   ]
  },
  {
   "cell_type": "code",
   "execution_count": null,
   "metadata": {},
   "outputs": [],
   "source": [
    "# 평균 이용거리가 긴 상위 대여소\n",
    "df.groupby(['대여대여소명'])['이용거리(M)'].mean().reset_index().sort_values(\n",
    "    by='이용거리(M)', ascending=False).head(10)"
   ]
  },
  {
   "cell_type": "code",
   "execution_count": null,
   "metadata": {},
   "outputs": [],
   "source": [
    "# 평균 이동거리가 긴 구룡마을 입구에서 대여한 자전거의 반납 장소를 본다.\n",
    "df.loc[df[\"대여대여소명\"] == \"구룡마을 입구 (래미안블레스티지 아파트)\", \"반납대여소명\"]"
   ]
  },
  {
   "cell_type": "code",
   "execution_count": null,
   "metadata": {},
   "outputs": [],
   "source": [
    "# 평균 이용거리가 긴 상위 반납대여소\n",
    "df.groupby(['반납대여소명'])['이용거리(M)'].mean().reset_index().sort_values(\n",
    "    by='이용거리(M)', ascending=False).head(10)"
   ]
  },
  {
   "cell_type": "code",
   "execution_count": null,
   "metadata": {},
   "outputs": [],
   "source": [
    "# 평균 이용거리가 짧은 대여소\n",
    "df.groupby(['대여대여소명'])['이용거리(M)'].mean().reset_index().sort_values(\n",
    "    by='이용거리(M)', ascending=True).head()"
   ]
  },
  {
   "cell_type": "code",
   "execution_count": null,
   "metadata": {},
   "outputs": [],
   "source": [
    "# 평균 이용시간이 많은 상위 대여소\n",
    "df.groupby(['대여대여소명'])['이용시간(분)'].mean().reset_index().sort_values(\n",
    "    by='이용시간(분)', ascending=False).head()"
   ]
  },
  {
   "cell_type": "code",
   "execution_count": null,
   "metadata": {},
   "outputs": [],
   "source": [
    "# 평균 이용시간이 적은 상위 대여소\n",
    "df.groupby(['대여대여소명'])['이용시간(분)'].mean().reset_index().sort_values(\n",
    "    by='이용시간(분)', ascending=True).head()"
   ]
  },
  {
   "cell_type": "markdown",
   "metadata": {},
   "source": [
    "## 시계열 데이터 보기\n",
    "* Datetime 활용하기 : [pandas.DatetimeIndex — pandas 0.24.2 documentation](https://pandas.pydata.org/pandas-docs/version/0.24.2/reference/api/pandas.DatetimeIndex.html)"
   ]
  },
  {
   "cell_type": "code",
   "execution_count": null,
   "metadata": {},
   "outputs": [],
   "source": [
    "# 날짜와 시간이 object 타입이다.\n",
    "# 연, 월, 일, 시, 분, 초, 요일 등의 정보를 가져오기 위해 데이터의 타입을 변경한다.\n",
    "df['대여일시'] = pd.to_datetime(df['대여일시'])\n",
    "df['반납일시'] = pd.to_datetime(df['반납일시'])\n",
    "df.dtypes"
   ]
  },
  {
   "cell_type": "code",
   "execution_count": null,
   "metadata": {},
   "outputs": [],
   "source": [
    "df['대여년월일'] = df['대여일시'].dt.date\n",
    "df['반납년월일'] = df['반납일시'].dt.date\n",
    "df['대여년'] = df['대여일시'].dt.year\n",
    "df['대여월'] = df['대여일시'].dt.month\n",
    "df['대여일'] = df['대여일시'].dt.day\n",
    "df['대여시'] = df['대여일시'].dt.hour\n",
    "df['대여분'] = df['대여일시'].dt.minute\n",
    "df['대여요일'] = df['대여일시'].dt.dayofweek\n",
    "df.columns"
   ]
  },
  {
   "cell_type": "code",
   "execution_count": null,
   "metadata": {},
   "outputs": [],
   "source": [
    "df['반납년월일'] = df['반납일시'].dt.date\n",
    "df['반납년월일'] = df['반납일시'].dt.date\n",
    "df['반납년'] = df['반납일시'].dt.year\n",
    "df['반납월'] = df['반납일시'].dt.month\n",
    "df['반납일'] = df['반납일시'].dt.day\n",
    "df['반납시'] = df['반납일시'].dt.hour\n",
    "df['반납분'] = df['반납일시'].dt.minute\n",
    "df['반납요일'] = df['반납일시'].dt.dayofweek\n",
    "df.columns"
   ]
  },
  {
   "cell_type": "code",
   "execution_count": null,
   "metadata": {},
   "outputs": [],
   "source": [
    "df.head()"
   ]
  },
  {
   "cell_type": "code",
   "execution_count": null,
   "metadata": {},
   "outputs": [],
   "source": [
    "df_month_1 = df['대여월'].value_counts().reset_index()\n",
    "df_month_1.columns = ['month', 'count']\n",
    "\n",
    "df_month_1 = df_month_1.sort_values('month')\n",
    "df_month_1['대여반납'] = '대여'\n",
    "print(df_month_1.shape)\n",
    "\n",
    "df_month_2 = df['반납월'].value_counts().reset_index()\n",
    "df_month_2.columns = ['month', 'count']\n",
    "df_month_2 = df_month_2.sort_values('month')\n",
    "df_month_2['대여반납'] = '반납'\n",
    "print(df_month_2.shape)\n",
    "\n",
    "df_month = pd.concat([df_month_1, df_month_2])\n",
    "print(df_month.shape)\n",
    "df_month.head()"
   ]
  },
  {
   "cell_type": "code",
   "execution_count": null,
   "metadata": {},
   "outputs": [],
   "source": [
    "df_month_pivot =  df_month.pivot_table(index=['month'],\n",
    "                                       columns=['대여반납'], \n",
    "                                       values='count', aggfunc=sum)\n",
    "df_month_pivot"
   ]
  },
  {
   "cell_type": "code",
   "execution_count": null,
   "metadata": {},
   "outputs": [],
   "source": [
    "df_month_pivot.plot(title='월별 자전거 대여수', rot=0)"
   ]
  },
  {
   "cell_type": "code",
   "execution_count": null,
   "metadata": {},
   "outputs": [],
   "source": [
    "df_month_pivot.plot.bar(title='월별 자전거 대여수', rot=0)"
   ]
  },
  {
   "cell_type": "code",
   "execution_count": null,
   "metadata": {},
   "outputs": [],
   "source": [
    "sns.barplot(data=df_month, x='month', y='count', hue='대여반납')"
   ]
  },
  {
   "cell_type": "markdown",
   "metadata": {},
   "source": [
    "## 일자별 대여|반납 현황\n",
    "* 날짜에 따라 대여|반납 횟수를 확인한다."
   ]
  },
  {
   "cell_type": "code",
   "execution_count": null,
   "metadata": {},
   "outputs": [],
   "source": [
    "df_day_1 = df['대여일'].value_counts().reset_index()\n",
    "df_day_1.columns = ['day', 'count']\n",
    "\n",
    "df_day_1 = df_day_1.sort_values('day')\n",
    "df_day_1['대여반납'] = '대여'\n",
    "print(df_day_1.shape)\n",
    "\n",
    "df_day_2 = df['반납일'].value_counts().reset_index()\n",
    "df_day_2.columns = ['day', 'count']\n",
    "df_day_2 = df_day_2.sort_values('day')\n",
    "df_day_2['대여반납'] = '반납'\n",
    "print(df_day_2.shape)\n",
    "\n",
    "df_day = pd.concat([df_day_1, df_day_2])\n",
    "print(df_day.shape)\n",
    "df_day.head()"
   ]
  },
  {
   "cell_type": "code",
   "execution_count": null,
   "metadata": {},
   "outputs": [],
   "source": [
    "df_day_pivot =  df_day.pivot_table(index=['day'],\n",
    "                                       columns=['대여반납'], \n",
    "                                       values='count', aggfunc=sum)\n",
    "df_day_pivot.head()"
   ]
  },
  {
   "cell_type": "code",
   "execution_count": null,
   "metadata": {},
   "outputs": [],
   "source": [
    "df_day_pivot.plot.bar(title='일별 자전거 대여수', rot=0, figsize=(20, 6))"
   ]
  },
  {
   "cell_type": "code",
   "execution_count": null,
   "metadata": {},
   "outputs": [],
   "source": [
    "plt.figure(figsize=(15, 5))\n",
    "sns.pointplot(data=df_day, x='day', y='count', hue='대여반납')\n",
    "sns.barplot(data=df_day, x='day', y='count', hue='대여반납')"
   ]
  },
  {
   "cell_type": "code",
   "execution_count": null,
   "metadata": {},
   "outputs": [],
   "source": [
    "df_ymd_1 = df['대여년월일'].value_counts().reset_index()\n",
    "df_ymd_1.columns = ['ymd', 'count']\n",
    "\n",
    "df_ymd_1 = df_ymd_1.sort_values('ymd')\n",
    "df_ymd_1['대여반납'] = '대여'\n",
    "print(df_ymd_1.shape)\n",
    "\n",
    "df_ymd_2 = df['반납년월일'].value_counts().reset_index()\n",
    "df_ymd_2.columns = ['ymd', 'count']\n",
    "df_ymd_2 = df_ymd_2.sort_values('ymd')\n",
    "df_ymd_2['대여반납'] = '반납'\n",
    "print(df_ymd_2.shape)\n",
    "\n",
    "df_ymd = pd.concat([df_ymd_1, df_ymd_2])\n",
    "print(df_ymd.shape)\n",
    "df_ymd.head()"
   ]
  },
  {
   "cell_type": "code",
   "execution_count": null,
   "metadata": {},
   "outputs": [],
   "source": [
    "# 시간데이터로 표현하기 위해 타입을 바꿔준다.\n",
    "df_ymd[\"ymd\"] = pd.to_datetime(df_ymd[\"ymd\"])\n",
    "df_ymd[\"yymmdd\"] = df_ymd[\"ymd\"].dt.date"
   ]
  },
  {
   "cell_type": "code",
   "execution_count": null,
   "metadata": {},
   "outputs": [],
   "source": [
    "# 특정 기간동안의 따릉이 대여/반납 수\n",
    "plt.figure(figsize=(20, 5))\n",
    "plt.xticks(rotation=30, ha='right')\n",
    "sns.lineplot(data=df_ymd, x='yymmdd', y='count', hue='대여반납')"
   ]
  },
  {
   "cell_type": "code",
   "execution_count": null,
   "metadata": {},
   "outputs": [],
   "source": [
    "# 슬라이싱으로 최근 데이터를 불러오기 위해 날짜 기준으로 정렬되도록 한다.\n",
    "df_ymd = df_ymd.sort_values(by=\"ymd\")\n",
    "df_ymd.head()"
   ]
  },
  {
   "cell_type": "markdown",
   "metadata": {},
   "source": [
    "* 일부 날짜의 데이터만 있다.\n",
    "* 2018년 6월 데이터만 봤을 때 13, 26일에는 대여와 반납모두 적다.\n",
    "* 26일의 일기예보를 보면 장맛비가 내린것을 확인해 볼 수 있다. https://www.youtube.com/watch?v=cYHC8iwfFyU"
   ]
  },
  {
   "cell_type": "markdown",
   "metadata": {},
   "source": [
    "## 요일별 대여|반납 현황\n",
    "* 대여|반납별로 어떤 요일에 주로 대여반납이 되는지 시각화해보기 위해 Tidy Data를 만든다."
   ]
  },
  {
   "cell_type": "code",
   "execution_count": null,
   "metadata": {},
   "outputs": [],
   "source": [
    "df_dow_1 = df['대여요일'].value_counts().reset_index()\n",
    "df_dow_1.columns = ['dayofweek', 'count']\n",
    "df_dow_1 = df_dow_1.sort_values('dayofweek')\n",
    "df_dow_1['대여반납'] = '대여'\n",
    "print(df_dow_1.shape)\n",
    "\n",
    "df_dow_2 = df['반납요일'].value_counts().reset_index()\n",
    "df_dow_2.columns = ['dayofweek', 'count']\n",
    "df_dow_2 = df_dow_2.sort_values('dayofweek')\n",
    "df_dow_2['대여반납'] = '반납'\n",
    "print(df_dow_2.shape)\n",
    "\n",
    "df_dow = pd.concat([df_dow_1, df_dow_2]).reindex()\n",
    "print(df_dow.shape)"
   ]
  },
  {
   "cell_type": "code",
   "execution_count": null,
   "metadata": {},
   "outputs": [],
   "source": [
    "df_dow.head(3)"
   ]
  },
  {
   "cell_type": "code",
   "execution_count": null,
   "metadata": {},
   "outputs": [],
   "source": [
    "df_dow.tail(3)"
   ]
  },
  {
   "cell_type": "code",
   "execution_count": null,
   "metadata": {},
   "outputs": [],
   "source": [
    "weekday_map = {0:'월', 1:'화', 2:'수', 3:'목',\n",
    "              4:'금', 5:'토', 6:'일'}\n",
    "df_dow['weekday'] = df_dow['dayofweek'].apply(lambda x : weekday_map[x])\n",
    "df_dow[['dayofweek', 'weekday']].head()"
   ]
  },
  {
   "cell_type": "code",
   "execution_count": null,
   "metadata": {},
   "outputs": [],
   "source": [
    "plt.figure(figsize=(20, 5))\n",
    "plt.title(\"요일별 자전거 대여수\")\n",
    "sns.pointplot(data=df_dow, x=\"weekday\", y=\"count\", hue=\"대여반납\")\n",
    "sns.barplot(data=df_dow, x=\"weekday\", y=\"count\", hue=\"대여반납\")"
   ]
  },
  {
   "cell_type": "markdown",
   "metadata": {},
   "source": [
    "## 시간대별 대여|반납량"
   ]
  },
  {
   "cell_type": "code",
   "execution_count": null,
   "metadata": {},
   "outputs": [],
   "source": [
    "df_hour_1 = df['대여시'].value_counts().reset_index()\n",
    "df_hour_1.columns = ['hour', 'count']\n",
    "df_hour_1 = df_hour_1.sort_values('hour')\n",
    "df_hour_1['대여반납'] = '대여'\n",
    "df_hour_1.head()\n",
    "\n",
    "df_hour_2 = df['반납시'].value_counts().reset_index()\n",
    "df_hour_2.columns = ['hour', 'count']\n",
    "df_hour_2 = df_hour_2.sort_values('hour')\n",
    "df_hour_2['대여반납'] = '반납'\n",
    "df_hour_2.head()\n",
    "\n",
    "df_hour = pd.concat([df_hour_1, df_hour_2])\n",
    "df_hour.head()"
   ]
  },
  {
   "cell_type": "code",
   "execution_count": null,
   "metadata": {},
   "outputs": [],
   "source": [
    "plt.figure(figsize=(12,6))\n",
    "sns.pointplot(data=df_hour, x=\"hour\", y=\"count\", hue=\"대여반납\")\n",
    "sns.barplot(data=df_hour, x=\"hour\", y=\"count\", hue=\"대여반납\")"
   ]
  },
  {
   "cell_type": "markdown",
   "metadata": {},
   "source": [
    "* 새벽시간대로 갈 수록 대여/반납 수가 줄어든다.\n",
    "* 출근시간대에는 대여가 반납보다 많다.\n",
    "* 오전에는 8시대에 대여/반납이 많으며, 오후시간대에는 18시에 대여/반납이 가장 많다.\n",
    "* 오전 11시부터 20시까지는 대여가 반납보다 많다.(대여>반납)\n",
    "* 21시 이후부터 오전 4시까지는 대여보다 반납이 많다.(대여<반납)"
   ]
  },
  {
   "cell_type": "code",
   "execution_count": null,
   "metadata": {},
   "outputs": [],
   "source": [
    "df_minute_1 = df['대여분'].value_counts().reset_index()\n",
    "df_minute_1.columns = ['minute', 'count']\n",
    "df_minute_1 = df_minute_1.sort_values('minute')\n",
    "df_minute_1['대여반납'] = '대여'\n",
    "print(df_minute_1.shape)\n",
    "\n",
    "df_minute_2 = df['반납분'].value_counts().reset_index()\n",
    "df_minute_2.columns = ['minute', 'count']\n",
    "df_minute_2 = df_minute_2.sort_values('minute')\n",
    "df_minute_2['대여반납'] = '반납'\n",
    "print(df_minute_2.shape)\n",
    "\n",
    "df_minute = pd.concat([df_minute_1, df_minute_2])\n",
    "print(df_minute.shape)"
   ]
  },
  {
   "cell_type": "code",
   "execution_count": null,
   "metadata": {},
   "outputs": [],
   "source": [
    "plt.figure(figsize=(12,6))\n",
    "plt.title('시간대별(분) 자전거 대여/반납수')\n",
    "sns.pointplot(data=df_minute, x=\"minute\", y=\"count\", hue=\"대여반납\")\n",
    "sns.barplot(data=df_minute, x=\"minute\", y=\"count\", hue=\"대여반납\")"
   ]
  },
  {
   "cell_type": "markdown",
   "metadata": {},
   "source": [
    "* 대여/반납이 거의 비슷하게 이루어지고 있지만 대여는 0 ~ 20분 사이에 더 많이 일어나며 반납은 40 ~ 60분 사이에 더 많이 일어난다."
   ]
  },
  {
   "cell_type": "markdown",
   "metadata": {},
   "source": [
    "## 대여와 반납은 같은 곳에서 이루어지고 있을까?"
   ]
  },
  {
   "cell_type": "code",
   "execution_count": null,
   "metadata": {},
   "outputs": [],
   "source": [
    "# 같은대여반납소라는 컬럼을 새로 만들고 대여반납이 같은 곳에서 이루어지고 있는지 여부를 추가한다.\n",
    "df['같은대여반납소'] = df['대여대여소명'] == df['반납대여소명']"
   ]
  },
  {
   "cell_type": "code",
   "execution_count": null,
   "metadata": {},
   "outputs": [],
   "source": [
    "df_location_diff = df['같은대여반납소'].value_counts().reset_index()\n",
    "df_location_diff.columns = ['일치여부', '대여반납수']\n",
    "# 같은|다른 반납소별로 대여반납수가 몇 배나 차이가 나는지 확인한다.\n",
    "location_diff_ratio = df_location_diff['대여반납수'][0]/df_location_diff['대여반납수'][1]\n",
    "print(f'같은 곳에서 대여반납 하는 것보다 다른 곳에서 대여반납 하는 것이 {location_diff_ratio:.2f}배 많다.')\n",
    "df_location_diff"
   ]
  },
  {
   "cell_type": "code",
   "execution_count": null,
   "metadata": {},
   "outputs": [],
   "source": [
    "df_location_diff.plot.bar(title=\"대여반납소 일치여부\")"
   ]
  },
  {
   "cell_type": "markdown",
   "metadata": {},
   "source": [
    "같은 곳에서 대여반납을 하는 것보다 다른 곳으로의 대여반납이 훨씬 많은 것을 확인할 수 있다."
   ]
  },
  {
   "cell_type": "code",
   "execution_count": null,
   "metadata": {},
   "outputs": [],
   "source": [
    "df_same_loc = df.loc[df['같은대여반납소'] == True]\n",
    "df_same_loc.head()"
   ]
  },
  {
   "cell_type": "code",
   "execution_count": null,
   "metadata": {
    "scrolled": false
   },
   "outputs": [],
   "source": [
    "# 같은 곳에서 대여반납이 이루어지는 상위 대여소(대여|반납 건 수)\n",
    "df_same_loc['대여대여소명'].value_counts().head(30)"
   ]
  },
  {
   "cell_type": "markdown",
   "metadata": {},
   "source": [
    "* 같은 곳에서 대여반납이 이루어지는 대여소들은 한강주변이나 공원 주변에 위치한 것을 확인해 볼 수 있다."
   ]
  },
  {
   "cell_type": "markdown",
   "metadata": {},
   "source": [
    "## 같은|다른 대여소에서 대여가 되는 자전거의 평균 이용시간\n",
    "### 같은 대여반납소"
   ]
  },
  {
   "cell_type": "code",
   "execution_count": null,
   "metadata": {},
   "outputs": [],
   "source": [
    "same_loc_mean_time = df_same_loc['이용시간(분)'].mean()\n",
    "print('같은곳에서 대여, 반납이 이루어지는 자전거의 평균 이용시간 : ', same_loc_mean_time)\n",
    "df_same_mean = df_same_loc.groupby(['대여대여소명', '대여대여소번호', '반납대여소명'])['이용시간(분)'].mean().reset_index()\n",
    "df_same_count = df_same_loc.groupby(['대여대여소명', '대여대여소번호', '반납대여소명']).size().reset_index()\n",
    "df_same_count.columns = ['대여대여소명', '대여대여소번호', '반납대여소명', '이용횟수']\n",
    "df_same_loc2 = df_same_mean.merge(df_same_count, left_on=['대여대여소명', '대여대여소번호', '반납대여소명'], \n",
    "                                  right_on=['대여대여소명', '대여대여소번호', '반납대여소명'])\n",
    "df_same_loc2.sort_values(by='이용시간(분)', ascending=False).head(10)"
   ]
  },
  {
   "cell_type": "code",
   "execution_count": null,
   "metadata": {},
   "outputs": [],
   "source": [
    "# 이용횟수가 많은 곳의 평균 이용시간\n",
    "df_same_loc2.sort_values(by='이용횟수', ascending=False).head(10)"
   ]
  },
  {
   "cell_type": "code",
   "execution_count": null,
   "metadata": {},
   "outputs": [],
   "source": [
    "df_same_loc2['이용횟수'].plot.hist()"
   ]
  },
  {
   "cell_type": "code",
   "execution_count": null,
   "metadata": {},
   "outputs": [],
   "source": [
    "df_same_loc2['이용횟수'].plot.hist(bins=100)"
   ]
  },
  {
   "cell_type": "code",
   "execution_count": null,
   "metadata": {},
   "outputs": [],
   "source": [
    "sns.distplot(df_same_loc2['이용횟수'])"
   ]
  },
  {
   "cell_type": "markdown",
   "metadata": {},
   "source": [
    "### 다른 대여|반납소"
   ]
  },
  {
   "cell_type": "code",
   "execution_count": null,
   "metadata": {},
   "outputs": [],
   "source": [
    "df_diff_loc = df.loc[df['같은대여반납소'] == False]\n",
    "df_diff_loc.shape"
   ]
  },
  {
   "cell_type": "code",
   "execution_count": null,
   "metadata": {},
   "outputs": [],
   "source": [
    "diff_loc_mean_time = df_diff_loc['이용시간(분)'].mean()\n",
    "print('다른곳에서 대여, 반납이 이루어지는 자전거의 평균 이용시간 : ', df_diff_loc['이용시간(분)'].mean())\n",
    "\n",
    "df_diff_mean = df_diff_loc.groupby(\n",
    "    ['대여대여소명', '반납대여소명'])['이용시간(분)'].mean().reset_index()\n",
    "df_diff_count = df_diff_loc.groupby(\n",
    "    ['대여대여소명', '반납대여소명']).size().reset_index()\n",
    "\n",
    "df_diff_count.columns = ['대여대여소명', '반납대여소명', '이용횟수']\n",
    "df_diff_loc2 = df_diff_mean.merge(df_diff_count, \n",
    "                                  left_on=['대여대여소명', '반납대여소명'], \n",
    "                                  right_on=['대여대여소명', '반납대여소명'])\n",
    "df_diff_loc2.sort_values(by='이용시간(분)', ascending=False).head(10)"
   ]
  },
  {
   "cell_type": "code",
   "execution_count": null,
   "metadata": {},
   "outputs": [],
   "source": [
    "df_diff_loc2.sort_values(by='이용횟수', ascending=False).head(10)"
   ]
  },
  {
   "cell_type": "code",
   "execution_count": null,
   "metadata": {},
   "outputs": [],
   "source": [
    "rent_mean_time = same_loc_mean_time - diff_loc_mean_time\n",
    "print(f'같은 곳에서 대여반납이 이루어지는 자전거의 이용시간(분)이 다른 대여소의 대여반납 이용시간보다 {rent_mean_time:.2f} 분 많다.')"
   ]
  },
  {
   "cell_type": "markdown",
   "metadata": {},
   "source": [
    "* 이용횟수가 많은 대여소라고 해서 평균이용시간이 평균보다 높지는 않다.\n",
    "* 하늘채코오롱아파트 건너편<->홍대입구역 2번출구 앞은 이용횟수가 가장 높은 대여반납소다.\n",
    "* 관련기사\n",
    "    * ['따릉이' 타고 가장 많이 다닌 경로는? - 통플러스](http://news.tongplus.com/site/data/html_dir/2018/10/24/2018102402585.html)\n",
    "    * [[ONE SHOT] 따릉이, ‘이곳’서 가장 많이 빌리고 ‘여기’서 가장 많이 탄다](https://news.joins.com/article/23003297)"
   ]
  },
  {
   "cell_type": "markdown",
   "metadata": {},
   "source": [
    "## 해당 기간동안 가장 많이 이용된 자전거는 몇 회 대여 되었을까?"
   ]
  },
  {
   "cell_type": "code",
   "execution_count": null,
   "metadata": {},
   "outputs": [],
   "source": [
    "bike_describe = df['자전거번호'].describe()\n",
    "print('대여된 자전거 수 :', bike_describe[1])\n",
    "print('가장 많이 대여된 자전거 번호 :', bike_describe[2])\n",
    "print('가장 많이 대여된 자전거의 대여횟수 :', bike_describe[3])\n",
    "bike_describe"
   ]
  },
  {
   "cell_type": "code",
   "execution_count": null,
   "metadata": {},
   "outputs": [],
   "source": [
    "bike_rent_counts = df['자전거번호'].value_counts().reset_index()\n",
    "bike_rent_counts.columns = ['자전거번호', '대여수']\n",
    "print('해당 기간동안 자전거 하나당 평균 대여 수:', bike_rent_counts['대여수'].mean())\n",
    "print('자전거 하나당 가장 많이 대여된 횟수:', bike_rent_counts['대여수'].max())\n",
    "print('자전거 하나당 가장 적게 대여된 횟수:', bike_rent_counts['대여수'].min())"
   ]
  },
  {
   "cell_type": "code",
   "execution_count": null,
   "metadata": {},
   "outputs": [],
   "source": [
    "bike_rent_counts.plot.hist()"
   ]
  },
  {
   "cell_type": "code",
   "execution_count": null,
   "metadata": {},
   "outputs": [],
   "source": [
    "# bin의 갯수를 늘려서 그려본다.\n",
    "bike_rent_counts.plot.hist(bins=100)"
   ]
  },
  {
   "cell_type": "code",
   "execution_count": null,
   "metadata": {},
   "outputs": [],
   "source": [
    "# 자전거 하나당 특정 기간동안 대여된 횟수\n",
    "sns.distplot(bike_rent_counts[\"대여수\"])"
   ]
  },
  {
   "cell_type": "code",
   "execution_count": null,
   "metadata": {},
   "outputs": [],
   "source": [
    "# 가장 많이 대여된 자전거의 대여이력\n",
    "most_bike_df = df.loc[df['자전거번호'] == bike_describe[2]]\n",
    "most_bike_df.head()"
   ]
  },
  {
   "cell_type": "code",
   "execution_count": null,
   "metadata": {},
   "outputs": [],
   "source": [
    "most_bike_df['대여대여소명'].value_counts()"
   ]
  },
  {
   "cell_type": "code",
   "execution_count": null,
   "metadata": {},
   "outputs": [],
   "source": [
    "rent_station = most_bike_df['대여대여소명'].unique()\n",
    "rent_station"
   ]
  },
  {
   "cell_type": "code",
   "execution_count": null,
   "metadata": {},
   "outputs": [],
   "source": [
    "# 대여소명 앞에 들어간 공백을 제거합니다.\n",
    "bike_move = []\n",
    "for s in rent_station:\n",
    "    bike_move.append(s.strip())\n",
    "    \n",
    "bike_move    "
   ]
  },
  {
   "cell_type": "code",
   "execution_count": null,
   "metadata": {},
   "outputs": [],
   "source": [
    "stations = pd.read_csv('data/seoul_bike_station.csv')\n",
    "stations.shape"
   ]
  },
  {
   "cell_type": "code",
   "execution_count": null,
   "metadata": {},
   "outputs": [],
   "source": [
    "bike_move_df = pd.DataFrame(bike_move)\n",
    "bike_move_df.columns = ['대여소']\n",
    "print(bike_move_df.shape)\n",
    "bike_move_df.head()"
   ]
  },
  {
   "cell_type": "code",
   "execution_count": null,
   "metadata": {},
   "outputs": [],
   "source": [
    "bike_move_df = bike_move_df.merge(stations, left_on='대여소', right_on='대여소', how='left')\n",
    "bike_move_df.shape"
   ]
  },
  {
   "cell_type": "code",
   "execution_count": null,
   "metadata": {},
   "outputs": [],
   "source": [
    "bike_move_df.head()"
   ]
  },
  {
   "cell_type": "code",
   "execution_count": null,
   "metadata": {},
   "outputs": [],
   "source": [
    "bike_move_df.isnull().sum()"
   ]
  },
  {
   "cell_type": "markdown",
   "metadata": {},
   "source": [
    "## 가장 많이 대여된 자전거가 거쳐간 대여소"
   ]
  },
  {
   "cell_type": "code",
   "execution_count": null,
   "metadata": {},
   "outputs": [],
   "source": [
    "# 정보가 없는 대여소, 위경도를 주소정보 등으로 다시 가져올 필요가 있다.\n",
    "bike_move_df.loc[bike_move_df['경도'].isnull()]"
   ]
  },
  {
   "cell_type": "code",
   "execution_count": null,
   "metadata": {},
   "outputs": [],
   "source": [
    "# 지도 표현을 위해 folium 을 import 한다.\n",
    "# 데이터 프레임에서 위도와 경도의 평균값을 구한다. 이 값으로 지도의 중심이 될 좌표를 정한다.\n",
    "# zoom_start는 지도를 얼마나 확대해서 볼것인지다.\n",
    "# tiles는 지도의 스타일이다.\n",
    "import folium \n",
    "\n",
    "geo_df = bike_move_df\n",
    "map = folium.Map(\n",
    "    location=[geo_df['위도'].mean(), geo_df['경도'].mean()], \n",
    "    zoom_start=12, tiles='Stamen Toner')\n",
    "\n",
    "for n in geo_df.index:\n",
    "    if geo_df.loc[n, '위도'] > 0 and geo_df.loc[n, '경도'] > 0 :\n",
    "        loc_name = geo_df.loc[n, '대여소']\n",
    "\n",
    "        icon_color = 'red'\n",
    "        # Circle 이 그려지지 않는다면 Circle => Marker 로 변경해서 그려보세요.\n",
    "        folium.Circle(\n",
    "            location=[geo_df.loc[n, '위도'], geo_df.loc[n, '경도']],\n",
    "            popup=loc_name,\n",
    "            radius=50,\n",
    "            color=icon_color,\n",
    "            fill=True,\n",
    "            fill_color=icon_color\n",
    "        ).add_to(map)\n",
    "    \n",
    "map"
   ]
  },
  {
   "cell_type": "code",
   "execution_count": null,
   "metadata": {},
   "outputs": [],
   "source": []
  }
 ],
 "metadata": {
  "kernelspec": {
   "display_name": "Python 3",
   "language": "python",
   "name": "python3"
  },
  "language_info": {
   "codemirror_mode": {
    "name": "ipython",
    "version": 3
   },
   "file_extension": ".py",
   "mimetype": "text/x-python",
   "name": "python",
   "nbconvert_exporter": "python",
   "pygments_lexer": "ipython3",
   "version": "3.6.1"
  },
  "varInspector": {
   "cols": {
    "lenName": 16,
    "lenType": 16,
    "lenVar": 40
   },
   "kernels_config": {
    "python": {
     "delete_cmd_postfix": "",
     "delete_cmd_prefix": "del ",
     "library": "var_list.py",
     "varRefreshCmd": "print(var_dic_list())"
    },
    "r": {
     "delete_cmd_postfix": ") ",
     "delete_cmd_prefix": "rm(",
     "library": "var_list.r",
     "varRefreshCmd": "cat(var_dic_list()) "
    }
   },
   "types_to_exclude": [
    "module",
    "function",
    "builtin_function_or_method",
    "instance",
    "_Feature"
   ],
   "window_display": false
  }
 },
 "nbformat": 4,
 "nbformat_minor": 2
}
