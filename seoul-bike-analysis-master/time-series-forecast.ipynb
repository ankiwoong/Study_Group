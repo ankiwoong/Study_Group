{
 "cells": [
  {
   "cell_type": "markdown",
   "metadata": {},
   "source": [
    "[![Open In Colab](https://colab.research.google.com/assets/colab-badge.svg)](https://colab.research.google.com/github/corazzon/seoul-bike-analysis/blob/master/time-series-forecast.ipynb)"
   ]
  },
  {
   "cell_type": "markdown",
   "metadata": {},
   "source": [
    "# 시계열 분석\n",
    "* 시계열 데이터 : 주가, 환율, 거래량, 판매량, 재고량, 수요량, 클릭률, 기온, 습도, 인구, 출생률, 트래픽양의 피크시간 패턴, 제품의 판매주기, 심장 박동\n",
    "* 시계열 데이터의 특성을 파악\n",
    "    * 규칙적 : 경향(trend), 계절성(seasonality), 주기(cycle)\n",
    "    * 불규칙적 : 불규칙성(irregular, random)\n",
    "\n",
    "\n",
    "* 추세 파악 \n",
    ": 무작위 적인 소음을 제거하여 흐름을 파악\n",
    "* 원인 예측 및 대응\n",
    ": 수요 분석을 통한 재고량 관리\n",
    "* 전망\n",
    ": 영업 전략, 생산 계획\n",
    "\n",
    "\n",
    "\n",
    "\n",
    "### 정상 시계열\n",
    " * 뚜렷한 추세가 없음\n",
    " * 진폭이 흐름에 따라 일정함\n",
    "\n",
    "### 비정상 시계열\n",
    " * 평균이 시간대에 따라 다름\n",
    " * 추세, 계절성을 가짐\n",
    " * 분산이 변한다\n",
    " * 분산이 일정하지 않으면 특정 기간에 오류가 발생하고 예측을 하기에 적합하지 않을 수 있다.\n",
    "\n",
    "\n",
    "### 비정상 시계열의 정상화\n",
    "1. 분산이 일정하지 않은 경우 \n",
    " * 분산 안정화 변환(로그변환, 제곱근 변환, Box-Cox 변환)\n",
    "2. 추세가 있을 때\n",
    " * 결정적 추세 : 분해법 또는 추세항 모형에 포함\n",
    " * 확률적 추세(Dickey-Fuller의 단위근 검정): 차분을 이용\n",
    "3. 계절성을 가지는 경우\n",
    " * 결정적 계절추세 : 계절 추세항 모형에 포함\n",
    " * 확률적 계절추세(계절형 단위근 검정) : 계절차분 \n"
   ]
  },
  {
   "cell_type": "markdown",
   "metadata": {},
   "source": [
    "## 여의나루역(대여소 번호 207)에서 대여하거나 반납한 자전거의 이력을 분석\n",
    "* 여의나루역은 같은 대여소에서 대여반납이 가장 많은 지역\n",
    "* 대여 혹은 반납이 여의나루역인 데이터\n",
    "* 2017년 1월부터 2019년 5월까지의 데이터를 사용"
   ]
  },
  {
   "cell_type": "code",
   "execution_count": null,
   "metadata": {},
   "outputs": [],
   "source": [
    "import pandas as pd\n",
    "import numpy as np\n",
    "import seaborn as sns\n",
    "import matplotlib as mpl\n",
    "import matplotlib.pyplot as plt\n",
    "from IPython.display import set_matplotlib_formats\n",
    "\n",
    "# Window 의 한글 폰트 설정\n",
    "# plt.rc('font',family='Malgun Gothic')\n",
    "# Mac 의 한글 폰트 설정\n",
    "plt.rc('font', family='AppleGothic') \n",
    "plt.rc('axes', unicode_minus=False)\n",
    "\n",
    "set_matplotlib_formats('retina')\n",
    "%matplotlib inline"
   ]
  },
  {
   "cell_type": "markdown",
   "metadata": {},
   "source": [
    "## Colab 에서 실행을 위한 코드\n",
    "\n",
    "* https://colab.research.google.com/github/corazzon/seoul-bike-analysis/blob/master/time-series-forecast.ipynb\n",
    "* 아래의 코드는 google colaboratory 에서 실행을 위한 코드로 로컬 아나콘다에서는 주석처리한다.\n",
    "* google colaboratory 에서는 주석을 풀고 폰트 설정과 csv 파일을 불러온다."
   ]
  },
  {
   "cell_type": "code",
   "execution_count": null,
   "metadata": {},
   "outputs": [],
   "source": [
    "# # 나눔고딕 설치\n",
    "# !apt -qq -y install fonts-nanum > /dev/null\n",
    "\n",
    "# import matplotlib.font_manager as fm\n",
    "\n",
    "# fontpath = '/usr/share/fonts/truetype/nanum/NanumBarunGothic.ttf'\n",
    "# font = fm.FontProperties(fname=fontpath, size=9)\n",
    "# fm._rebuild()\n",
    "\n",
    "# # 그래프에 retina display 적용\n",
    "# %config InlineBackend.figure_format = 'retina'\n",
    "\n",
    "# # Colab 의 한글 폰트 설정\n",
    "# plt.rc('font', family='NanumBarunGothic') "
   ]
  },
  {
   "cell_type": "code",
   "execution_count": null,
   "metadata": {},
   "outputs": [],
   "source": [
    "# # 구글 드라이브에서 csv 파일을 읽어오기 위해 gauth 인증을 한다.\n",
    "# !pip install -U -q PyDrive\n",
    "# from pydrive.auth import GoogleAuth\n",
    "# from pydrive.drive import GoogleDrive\n",
    "# from google.colab import auth\n",
    "# from oauth2client.client import GoogleCredentials\n",
    "\n",
    "# # PyDrive client 인증\n",
    "# auth.authenticate_user()\n",
    "# gauth = GoogleAuth()\n",
    "# gauth.credentials = GoogleCredentials.get_application_default()\n",
    "# drive = GoogleDrive(gauth)"
   ]
  },
  {
   "cell_type": "code",
   "execution_count": null,
   "metadata": {},
   "outputs": [],
   "source": [
    "# # 공유 가능한 링크로 파일 가져오기\n",
    "# url ='https://drive.google.com/open?id=1ngU6y2Fl0cz6ckCuWvXSHKs5aLsh48TH'\n",
    "# id = url.split('=')[1]\n",
    "# print(id)\n",
    "# downloaded = drive.CreateFile({'id':id}) \n",
    "# # data 폴더에 파일을 관리하며, 폴더가 없다면 만들어서 파일을 관리하도록 한다.\n",
    "# %mkdir data\n",
    "# downloaded.GetContentFile('data/bike-station-207.csv')  "
   ]
  },
  {
   "cell_type": "markdown",
   "metadata": {},
   "source": [
    "## csv 파일로드"
   ]
  },
  {
   "cell_type": "code",
   "execution_count": null,
   "metadata": {},
   "outputs": [],
   "source": [
    "df = pd.read_csv(\"data/bike-station-207.csv\", low_memory=False)\n",
    "df.shape"
   ]
  },
  {
   "cell_type": "code",
   "execution_count": null,
   "metadata": {},
   "outputs": [],
   "source": [
    "df.head(3)"
   ]
  },
  {
   "cell_type": "code",
   "execution_count": null,
   "metadata": {},
   "outputs": [],
   "source": [
    "df.tail(3)"
   ]
  },
  {
   "cell_type": "code",
   "execution_count": null,
   "metadata": {
    "scrolled": true
   },
   "outputs": [],
   "source": [
    "df.info()"
   ]
  },
  {
   "cell_type": "code",
   "execution_count": null,
   "metadata": {},
   "outputs": [],
   "source": [
    "df[\"대여연월\"] = df[\"대여일시\"].apply(lambda x : x[:7])\n",
    "df[\"반납연월\"] = df[\"반납일시\"].apply(lambda x : x[:7])"
   ]
  },
  {
   "cell_type": "code",
   "execution_count": null,
   "metadata": {},
   "outputs": [],
   "source": [
    "# object 타입에는 .dt accessor를 사용할 수 없기 때문에\n",
    "# 대여일시와 반납일시를 datetime 형태로 변환해 줍니다.\n",
    "df[\"대여일시\"] = pd.to_datetime(df[\"대여일시\"])\n",
    "df[\"반납일시\"] = pd.to_datetime(df[\"반납일시\"])\n",
    "\n",
    "df[[\"대여일시\", \"반납일시\"]].dtypes"
   ]
  },
  {
   "cell_type": "code",
   "execution_count": null,
   "metadata": {},
   "outputs": [],
   "source": [
    "df[\"대여연도\"] = df[\"대여일시\"].dt.year\n",
    "df[\"대여월\"] = df[\"대여일시\"].dt.month\n",
    "df[\"대여일\"] = df[\"대여일시\"].dt.day\n",
    "df[\"대여시간\"] = df[\"대여일시\"].dt.hour\n",
    "df[\"대여요일\"] = df[\"대여일시\"].dt.dayofweek\n",
    "df[\"대여일자\"] = df[\"대여일시\"].dt.date\n",
    "\n",
    "df.sample()"
   ]
  },
  {
   "cell_type": "code",
   "execution_count": null,
   "metadata": {},
   "outputs": [],
   "source": [
    "df[\"반납연도\"] = df[\"반납일시\"].dt.year\n",
    "df[\"반납월\"] = df[\"반납일시\"].dt.month\n",
    "df[\"반납일\"] = df[\"반납일시\"].dt.day\n",
    "df[\"반납시간\"] = df[\"반납일시\"].dt.hour\n",
    "df[\"반납요일\"] = df[\"반납일시\"].dt.dayofweek\n",
    "df[\"반납일자\"] = df[\"반납일시\"].dt.date\n",
    "\n",
    "df.sample()"
   ]
  },
  {
   "cell_type": "code",
   "execution_count": null,
   "metadata": {},
   "outputs": [],
   "source": [
    "# 수치를 집계해보기 전에 countplot으로 분석해 본다.\n",
    "plt.figure(figsize=(15, 5))\n",
    "sns.countplot(data=df, x=\"대여시간\")"
   ]
  },
  {
   "cell_type": "code",
   "execution_count": null,
   "metadata": {},
   "outputs": [],
   "source": [
    "# 어느 요일에 자전거를 더 많이 타는지 비교해 본다.\n",
    "plt.figure(figsize=(15, 5))\n",
    "sns.countplot(data=df, x=\"대여요일\")"
   ]
  },
  {
   "cell_type": "code",
   "execution_count": null,
   "metadata": {},
   "outputs": [],
   "source": [
    "# 연도별 데이터를 보면 모든 월 데이터가 있지 않다. 따라서 count 값으로 시각화를 하는 것은 적절하지 않다.(평균이나 다른 수치로 보도록 한다.)\n",
    "plt.figure(figsize=(15, 5))\n",
    "sns.countplot(data=df, x=\"대여월\")"
   ]
  },
  {
   "cell_type": "markdown",
   "metadata": {},
   "source": [
    "### 시간대별 대여수량을 집계"
   ]
  },
  {
   "cell_type": "code",
   "execution_count": null,
   "metadata": {},
   "outputs": [],
   "source": [
    "# value 값은 \"대여일시\"로 넣어주었는데 어떤 컬럼을 넣어주어도 count값을 동일하게 구한다.\n",
    "# 대여일자로 구하게 되면 reset_index()에서 컬럼명이 중복되기 때문에 오류가 발생해서 다른 컬럼으로 구해왔다.\n",
    "df_rent_group = df.groupby([\"대여일자\", \"대여연월\", \"대여연도\", \"대여월\", \"대여일\", \"대여요일\"])[\"대여일시\"].count()\n",
    "df_rent_group.head()"
   ]
  },
  {
   "cell_type": "code",
   "execution_count": null,
   "metadata": {},
   "outputs": [],
   "source": [
    "df_rent = pd.DataFrame(df_rent_group).reset_index()\n",
    "df_rent.columns = [\"대여일자\", \"대여연월\", \"대여연도\", \n",
    "                   \"대여월\", \"대여일\", \"대여요일\", \"대여수\"]\n",
    "df_rent.head()"
   ]
  },
  {
   "cell_type": "code",
   "execution_count": null,
   "metadata": {},
   "outputs": [],
   "source": [
    "# 수치 데이터를 히스토그램으로 표현해 본다.\n",
    "# 수치 데이터를 막대그래프로 표현하기 위해서는 도수분포표를 만들고 이를 시각화 하는 것이 히스토그램이다.\n",
    "df.hist(figsize = (15,15), bins=25)"
   ]
  },
  {
   "cell_type": "code",
   "execution_count": null,
   "metadata": {},
   "outputs": [],
   "source": [
    "df_rent.groupby('대여요일')['대여수'].mean().plot.bar(\n",
    "    title=\"요일별 평균 자전거 대여수\", rot=0)"
   ]
  },
  {
   "cell_type": "code",
   "execution_count": null,
   "metadata": {},
   "outputs": [],
   "source": [
    "df_rent.groupby('대여연도')['대여수'].mean().plot.bar(rot=0)"
   ]
  },
  {
   "cell_type": "code",
   "execution_count": null,
   "metadata": {},
   "outputs": [],
   "source": [
    "df_rent.groupby('대여일자')['대여수'].mean().plot(rot=30, figsize=(15, 5))"
   ]
  },
  {
   "cell_type": "code",
   "execution_count": null,
   "metadata": {},
   "outputs": [],
   "source": [
    "df_rent_2017 = df_rent[df_rent[\"대여연도\"] == 2017]\n",
    "df_rent_2017.groupby('대여월')['대여수'].mean().plot.bar(rot=0)"
   ]
  },
  {
   "cell_type": "code",
   "execution_count": null,
   "metadata": {},
   "outputs": [],
   "source": [
    "df_rent.groupby('대여월')['대여수'].mean().plot.bar(rot=0)"
   ]
  },
  {
   "cell_type": "code",
   "execution_count": null,
   "metadata": {},
   "outputs": [],
   "source": [
    "# 대여연도와 월별 대여수 평균을 구한다.\n",
    "df_rent.groupby('대여연월')['대여수'].mean()"
   ]
  },
  {
   "cell_type": "code",
   "execution_count": null,
   "metadata": {},
   "outputs": [],
   "source": [
    "df_rent.groupby('대여연월')['대여수'].mean().plot.bar(rot=30, figsize=(15, 5))"
   ]
  },
  {
   "cell_type": "code",
   "execution_count": null,
   "metadata": {},
   "outputs": [],
   "source": [
    "plt.figure(figsize=(15, 5))\n",
    "plt.xticks(rotation=30)\n",
    "sns.barplot(data=df_rent, x=\"대여연월\", y=\"대여수\")\n",
    "sns.pointplot(data=df_rent, x=\"대여연월\", y=\"대여수\")"
   ]
  },
  {
   "cell_type": "code",
   "execution_count": null,
   "metadata": {},
   "outputs": [],
   "source": [
    "df_rent.groupby('대여연월')['대여수'].mean().plot(rot=30, figsize=(15, 5))"
   ]
  },
  {
   "cell_type": "code",
   "execution_count": null,
   "metadata": {},
   "outputs": [],
   "source": [
    "fig,axs = plt.subplots(3,1)\n",
    "\n",
    "df_rent[\"대여일\"].plot(figsize = (15,8), title = \"일별\", ax = axs[0])\n",
    "df_rent[\"대여요일\"].plot(figsize = (15,8), title = \"요일별\", ax = axs[1])\n",
    "df_rent[\"대여월\"].plot(figsize = (15,8), title = \"월별\", ax = axs[2])"
   ]
  },
  {
   "cell_type": "code",
   "execution_count": null,
   "metadata": {},
   "outputs": [],
   "source": [
    "df_rent_day = df_rent.groupby([\"대여일자\"])[\"대여수\"].mean()\n",
    "df_rent_day.head()"
   ]
  },
  {
   "cell_type": "code",
   "execution_count": null,
   "metadata": {},
   "outputs": [],
   "source": [
    "df_rent_month = df_rent.groupby([\"대여연월\"])[\"대여수\"].mean()\n",
    "df_rent_month.head()"
   ]
  },
  {
   "cell_type": "markdown",
   "metadata": {},
   "source": [
    "## Simple Moving Average"
   ]
  },
  {
   "cell_type": "code",
   "execution_count": null,
   "metadata": {},
   "outputs": [],
   "source": [
    "# Determine rolling statistics\n",
    "# 30일치 rolling mean을 구해서 시각화 합니다.\n",
    "rolmean = df_rent_day.rolling(window=12).mean() \n",
    "# window size 30 denotes 30 days, giving rolling mean at monthly level\n",
    "rolstd = df_rent_day.rolling(window=12).std()"
   ]
  },
  {
   "cell_type": "code",
   "execution_count": null,
   "metadata": {},
   "outputs": [],
   "source": [
    "df_rent_day.plot(label='Original')\n",
    "rolmean.plot(label='Rolling Mean')\n",
    "rolstd.plot(label='Rolling Std', figsize=(15, 5))\n",
    "\n",
    "plt.legend(loc='best')\n",
    "plt.title('Rolling Mean & Standard Deviation')"
   ]
  },
  {
   "cell_type": "markdown",
   "metadata": {},
   "source": [
    "## Weighted Moving Average\n",
    "* exponentially-weighted-windows\n",
    "* [Computational tools — pandas 0.25.0 documentation](https://pandas.pydata.org/pandas-docs/stable/user_guide/computation.html#exponentially-weighted-windows)"
   ]
  },
  {
   "cell_type": "code",
   "execution_count": null,
   "metadata": {},
   "outputs": [],
   "source": [
    "df_rent['WMA12'] = df_rent['대여수'].ewm(span=12).mean()\n",
    "df_rent['WMA6'] = df_rent['대여수'].ewm(span=6).mean()"
   ]
  },
  {
   "cell_type": "code",
   "execution_count": null,
   "metadata": {},
   "outputs": [],
   "source": [
    "df_rent[['대여일자', '대여수', 'WMA6','WMA12']].plot(x='대여일자', figsize=(15,5))"
   ]
  },
  {
   "cell_type": "markdown",
   "metadata": {},
   "source": [
    "## Simple Exponential Smoothing"
   ]
  },
  {
   "cell_type": "code",
   "execution_count": null,
   "metadata": {},
   "outputs": [],
   "source": [
    "# 데이터셋을 train과 test 로 나눈다.\n",
    "train = pd.DataFrame(df_rent_day[:800])\n",
    "test = pd.DataFrame(df_rent_day[800:])"
   ]
  },
  {
   "cell_type": "code",
   "execution_count": null,
   "metadata": {},
   "outputs": [],
   "source": [
    "train[\"대여수\"].plot(figsize=(15,5))\n",
    "test[\"대여수\"].plot(title='train과 test세트로 분할')"
   ]
  },
  {
   "cell_type": "code",
   "execution_count": null,
   "metadata": {},
   "outputs": [],
   "source": [
    "from statsmodels.tsa.api import SimpleExpSmoothing\n",
    "ses_model = SimpleExpSmoothing(pd.np.asarray(train['대여수'].astype(np.float)))"
   ]
  },
  {
   "cell_type": "code",
   "execution_count": null,
   "metadata": {},
   "outputs": [],
   "source": [
    "ses_result = ses_model.fit()\n",
    "ses_result"
   ]
  },
  {
   "cell_type": "code",
   "execution_count": null,
   "metadata": {},
   "outputs": [],
   "source": [
    "y_hat = test.copy()\n",
    "y_hat['SES'] = ses_result.forecast(len(test))\n",
    "y_hat['SES'][:3]"
   ]
  },
  {
   "cell_type": "code",
   "execution_count": null,
   "metadata": {},
   "outputs": [],
   "source": [
    "plt.figure(figsize=(15,5))\n",
    "plt.plot(train['대여수'], label='Train')\n",
    "plt.plot(test['대여수'], label='Test')\n",
    "plt.plot(y_hat['SES'], label='Simple Exp Smoothing')\n",
    "plt.legend()"
   ]
  },
  {
   "cell_type": "code",
   "execution_count": null,
   "metadata": {},
   "outputs": [],
   "source": [
    "rmse = {}\n",
    "# root mean squared error 로 오차를 계산해 본다.\n",
    "rmse[\"SES\"] = np.sqrt(np.square(test['대여수'] - y_hat['SES']).mean())\n",
    "rmse[\"SES\"]"
   ]
  },
  {
   "cell_type": "markdown",
   "metadata": {},
   "source": [
    "## Expanding"
   ]
  },
  {
   "cell_type": "code",
   "execution_count": null,
   "metadata": {},
   "outputs": [],
   "source": [
    "# Expanding\n",
    "df_rent['대여수'].expanding(min_periods=1).mean().plot(figsize=(15,5))"
   ]
  },
  {
   "cell_type": "markdown",
   "metadata": {},
   "source": [
    "### Dickey–Fuller test"
   ]
  },
  {
   "cell_type": "code",
   "execution_count": null,
   "metadata": {},
   "outputs": [],
   "source": [
    "# 결과의 p-value 가 5%를 벗어나기 때문에 non-stationary 데이터라고 볼 수 있다.\n",
    "# AIC - 회귀에서 예측변수(predictor)를 고를 때 사용하며, 아카이케(Akaike)의 정보 기준(AIC; Akaike’s information Criterion)\n",
    "# AIC 출처 : [8.6 추정과 차수 선택 | Forecasting: Principles and Practice](https://otexts.com/fppkr/arima-estimation.html)\n",
    "from statsmodels.tsa.stattools import adfuller\n",
    "# Perform Dickey–Fuller test:\n",
    "print('Results of Dickey Fuller Test:')\n",
    "dftest = adfuller(df_rent['대여수'], autolag='AIC')\n",
    "dfoutput = pd.Series(\n",
    "    dftest[0:4], \n",
    "    index=['Test Statistic',\n",
    "           'p-value',\n",
    "           '#Lags Used',\n",
    "           'Number of Observations Used'])\n",
    "\n",
    "for key,value in dftest[4].items():\n",
    "    dfoutput['Critical Value (%s)'%key] = value\n",
    "print(dfoutput)"
   ]
  },
  {
   "cell_type": "markdown",
   "metadata": {},
   "source": [
    "## Time Series data Decomposition(시계열 데이터 분해)\n",
    "* Seasonal\n",
    "* Trend\n",
    "* Residual(random, remainder)"
   ]
  },
  {
   "cell_type": "markdown",
   "metadata": {},
   "source": [
    "## Additive Model\n",
    "\n",
    "* 값을 더해서 구한다.\n",
    "\n",
    "$y_t = Level + Trend + Seasonality + Noise$\n"
   ]
  },
  {
   "cell_type": "code",
   "execution_count": null,
   "metadata": {},
   "outputs": [],
   "source": [
    "from statsmodels.api import tsa\n",
    "\n",
    "# Additive model\n",
    "res = tsa.seasonal_decompose(df_rent[\"대여수\"], freq=30, model=\"additive\")\n",
    "fig = res.plot()"
   ]
  },
  {
   "cell_type": "markdown",
   "metadata": {},
   "source": [
    "## Multiplicative Model\n",
    "*  값을 곱해서 구한다.\n",
    "\n",
    "$y_t = Level \\times Trend \\times Seasonality \\times Noise$"
   ]
  },
  {
   "cell_type": "code",
   "execution_count": null,
   "metadata": {},
   "outputs": [],
   "source": [
    "# multiplicative\n",
    "res = tsa.seasonal_decompose(df_rent[\"대여수\"], freq=7, model=\"multiplicative\")\n",
    "fig = res.plot()"
   ]
  },
  {
   "cell_type": "markdown",
   "metadata": {},
   "source": [
    "## ACF, PACF\n",
    "* ARIMA 모델 사용시 lag 값에 따른 절단값으로 p,d,q값을 찾기 위해 그려본다.\n",
    "* AUTO.ARIMA 함수를 사용하여 최적화된 파라미터를 찾을 수도 있다.\n",
    "\n",
    "## ACF : 자기상관 함수 AutoCorrelation Function\n",
    "\n",
    "## PACF : 부분 자기상관 함수 Partial AutoCorrelation Function \n",
    "\n",
    "* p – Lag value where the PACF chart crosses the upper confidence interval for the first time.\n",
    "* q – Lag value where the ACF chart crosses the upper confidence interval for the first time.\n",
    "\n",
    "* 참고 : [Detecting stationarity in time series data - Towards Data Science](https://towardsdatascience.com/detecting-stationarity-in-time-series-data-d29e0a21e638)"
   ]
  },
  {
   "cell_type": "code",
   "execution_count": null,
   "metadata": {},
   "outputs": [],
   "source": [
    "from statsmodels.graphics import tsaplots\n",
    "# lag는 0부터 설정할 수 있으나 너무 낮으면  그래프를 보기 어렵다.\n",
    "# 0은 제외하고 본다.\n",
    "\n",
    "ax1 = plt.subplot(211)\n",
    "tsaplots.plot_acf(df_rent[\"대여수\"], lags=30, ax=ax1)\n",
    "ax2 = plt.subplot(212)\n",
    "tsaplots.plot_pacf(df_rent[\"대여수\"], lags=30, ax=ax2)\n",
    "plt.tight_layout()"
   ]
  },
  {
   "cell_type": "markdown",
   "metadata": {},
   "source": [
    "## Seasonal ARIMA\n",
    "* 참고 : [An End-to-End Project on Time Series Analysis and Forecasting with Python](https://towardsdatascience.com/an-end-to-end-project-on-time-series-analysis-and-forecasting-with-python-4835e6bf050b)\n",
    "\n",
    "### Trend\n",
    "* p: Trend autoregression order. AR(p)모형의 p차수\n",
    "* d: Trend difference order. 트랜드를 제거하여 안정시계열로 만들기 위한 I(d)의 차분 차수 d\n",
    "* q: Trend moving average order. MA(q)의 q차수 \n",
    "\n",
    "### Seasonal\n",
    "* P: Seasonal autoregressive order.\n",
    "* D: Seasonal difference order.\n",
    "* Q: Seasonal moving average order.\n",
    "* m: The number of time steps for a single seasonal period."
   ]
  },
  {
   "cell_type": "code",
   "execution_count": null,
   "metadata": {},
   "outputs": [],
   "source": [
    "import itertools\n",
    "p = d = q = range(0, 2)\n",
    "pdq = list(itertools.product(p, d, q))\n",
    "print(pdq)\n",
    "seasonal_pdq = [(x[0], x[1], x[2], 7) for x in list(itertools.product(p, d, q))]\n",
    "seasonal_pdq"
   ]
  },
  {
   "cell_type": "code",
   "execution_count": null,
   "metadata": {},
   "outputs": [],
   "source": [
    "# Grid Search와 유사하게 최적의 파라메터 값을 찾는다.\n",
    "y = train['대여수'].to_list()\n",
    "\n",
    "for param in pdq:\n",
    "    for param_seasonal in seasonal_pdq:\n",
    "        try:\n",
    "            mod = tsa.statespace.SARIMAX(y,\n",
    "                                        order=param,\n",
    "                                        seasonal_order=param_seasonal,\n",
    "                                        enforce_stationarity=False,\n",
    "                                        enforce_invertibility=False)\n",
    "            results = mod.fit()\n",
    "            print(f\"ARIMA{param}x{param_seasonal}7 - AIC:{results.aic}\")\n",
    "        except:\n",
    "            continue"
   ]
  },
  {
   "cell_type": "code",
   "execution_count": null,
   "metadata": {},
   "outputs": [],
   "source": [
    "# ARIMA(p,d,q)(P,D,Q)m\n",
    "# ARIMA(1, 1, 1)x(0, 1, 1, 7)7 - AIC:10083.141308943608\n",
    "arima = tsa.statespace.SARIMAX(train['대여수'].to_list(),\n",
    "                                  order=(1,1,1),\n",
    "                                  seasonal_order=(0,1,1,7),\n",
    "                                  enforce_stationarity=False,\n",
    "                                  enforce_invertibility=False)\n",
    "# 학습\n",
    "arima_result = arima.fit()\n",
    "print(arima_result.summary().tables[1])"
   ]
  },
  {
   "cell_type": "code",
   "execution_count": null,
   "metadata": {},
   "outputs": [],
   "source": [
    "arima_result.plot_diagnostics(figsize=(15, 10))"
   ]
  },
  {
   "cell_type": "code",
   "execution_count": null,
   "metadata": {},
   "outputs": [],
   "source": [
    "# 예측\n",
    "predict_value = arima_result.predict(start=801, end=880, dynamic=True)\n",
    "predict_value[:5]"
   ]
  },
  {
   "cell_type": "code",
   "execution_count": null,
   "metadata": {},
   "outputs": [],
   "source": [
    "y_hat['ARIMA'] = predict_value\n",
    "y_hat['ARIMA'].head()"
   ]
  },
  {
   "cell_type": "code",
   "execution_count": null,
   "metadata": {},
   "outputs": [],
   "source": [
    "plt.figure(figsize=(15,5))\n",
    "plt.plot(train['대여수'], label='Train')\n",
    "plt.plot(test['대여수'], label='Test')\n",
    "plt.plot(y_hat['ARIMA'], label='Seasonal ARIMA')\n",
    "plt.legend()"
   ]
  },
  {
   "cell_type": "code",
   "execution_count": null,
   "metadata": {},
   "outputs": [],
   "source": [
    "# root mean squared error 로 오차를 계산해 본다.\n",
    "rmse[\"ARIMA\"] = np.sqrt(np.square(test['대여수'] - y_hat['ARIMA']).mean())\n",
    "rmse[\"ARIMA\"]"
   ]
  },
  {
   "cell_type": "code",
   "execution_count": null,
   "metadata": {},
   "outputs": [],
   "source": [
    "rmse"
   ]
  },
  {
   "cell_type": "markdown",
   "metadata": {},
   "source": [
    "## fbprophet\n",
    "* 공식문서 : https://facebook.github.io/prophet/docs/quick_start.html#python-api\n",
    "* https://anaconda.org/conda-forge/fbprophet\n",
    "* conda install -c conda-forge fbprophet\n",
    "* pip로 설치한다면 pystan이 설치되어 있어야 함"
   ]
  },
  {
   "cell_type": "code",
   "execution_count": null,
   "metadata": {},
   "outputs": [],
   "source": [
    "# !pip install pystan\n",
    "# !pip install fbprophet"
   ]
  },
  {
   "cell_type": "code",
   "execution_count": null,
   "metadata": {},
   "outputs": [],
   "source": [
    "from fbprophet import Prophet"
   ]
  },
  {
   "cell_type": "code",
   "execution_count": null,
   "metadata": {},
   "outputs": [],
   "source": [
    "p_train = train.reset_index().copy()\n",
    "p_train.columns = [\"ds\", \"y\"]\n",
    "p_train[\"y\"] = np.log(p_train[\"y\"])\n",
    "p_train.head()"
   ]
  },
  {
   "cell_type": "code",
   "execution_count": null,
   "metadata": {},
   "outputs": [],
   "source": [
    "m = Prophet(daily_seasonality=True)\n",
    "m.fit(p_train)"
   ]
  },
  {
   "cell_type": "code",
   "execution_count": null,
   "metadata": {},
   "outputs": [],
   "source": [
    "future = m.make_future_dataframe(periods=80)\n",
    "future.tail()"
   ]
  },
  {
   "cell_type": "code",
   "execution_count": null,
   "metadata": {
    "scrolled": true
   },
   "outputs": [],
   "source": [
    "forecast = m.predict(future)\n",
    "forecast[['ds', 'yhat', 'yhat_lower', 'yhat_upper']].tail()"
   ]
  },
  {
   "cell_type": "code",
   "execution_count": null,
   "metadata": {},
   "outputs": [],
   "source": [
    "df_forecast = forecast[['ds', 'yhat']]\n",
    "df_plt_forecast = df_forecast.set_index('ds')\n",
    "df_plt_forecast.shape"
   ]
  },
  {
   "cell_type": "code",
   "execution_count": null,
   "metadata": {},
   "outputs": [],
   "source": [
    "plt.figure(figsize=(12,5))\n",
    "plt.plot(np.log(train['대여수']), label='Train')\n",
    "plt.plot(np.log(test['대여수']), label='Test')\n",
    "plt.plot(df_plt_forecast['yhat'], label='fbprophet')\n",
    "plt.legend()"
   ]
  },
  {
   "cell_type": "code",
   "execution_count": null,
   "metadata": {},
   "outputs": [],
   "source": [
    "fig1 = m.plot(forecast)"
   ]
  },
  {
   "cell_type": "code",
   "execution_count": null,
   "metadata": {},
   "outputs": [],
   "source": [
    "fig2 = m.plot_components(forecast)"
   ]
  },
  {
   "cell_type": "code",
   "execution_count": null,
   "metadata": {},
   "outputs": [],
   "source": [
    "# plotly 가 설치되어 있지 않다면 아래의 명령어로 설치가 필요하다.\n",
    "# 아나콘다에 설치 시 : conda install -c plotly plotly \n",
    "from fbprophet.plot import plot_plotly\n",
    "import plotly.offline as py\n",
    "\n",
    "py.init_notebook_mode()\n",
    "\n",
    "fig = plot_plotly(m, forecast)  # This returns a plotly Figure\n",
    "py.iplot(fig)"
   ]
  },
  {
   "cell_type": "code",
   "execution_count": null,
   "metadata": {},
   "outputs": [],
   "source": []
  }
 ],
 "metadata": {
  "kernelspec": {
   "display_name": "Python 3",
   "language": "python",
   "name": "python3"
  },
  "language_info": {
   "codemirror_mode": {
    "name": "ipython",
    "version": 3
   },
   "file_extension": ".py",
   "mimetype": "text/x-python",
   "name": "python",
   "nbconvert_exporter": "python",
   "pygments_lexer": "ipython3",
   "version": "3.7.3"
  },
  "varInspector": {
   "cols": {
    "lenName": 16,
    "lenType": 16,
    "lenVar": 40
   },
   "kernels_config": {
    "python": {
     "delete_cmd_postfix": "",
     "delete_cmd_prefix": "del ",
     "library": "var_list.py",
     "varRefreshCmd": "print(var_dic_list())"
    },
    "r": {
     "delete_cmd_postfix": ") ",
     "delete_cmd_prefix": "rm(",
     "library": "var_list.r",
     "varRefreshCmd": "cat(var_dic_list()) "
    }
   },
   "types_to_exclude": [
    "module",
    "function",
    "builtin_function_or_method",
    "instance",
    "_Feature"
   ],
   "window_display": false
  }
 },
 "nbformat": 4,
 "nbformat_minor": 2
}
