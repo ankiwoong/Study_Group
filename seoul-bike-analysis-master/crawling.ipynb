{
 "cells": [
  {
   "cell_type": "markdown",
   "metadata": {},
   "source": [
    "[![Open In Colab](https://colab.research.google.com/assets/colab-badge.svg)](https://colab.research.google.com/github/corazzon/seoul-bike-analysis/blob/master/crawling.ipynb)"
   ]
  },
  {
   "cell_type": "markdown",
   "metadata": {},
   "source": [
    "# 크롤링으로 위경도 가져오기\n",
    "* 따릉이 대여소 정보 가져오기\n",
    "* 크롤링 위치 : https://www.bikeseoul.com/app/station/moveStationSearchView.do?currentPageNo=1\n",
    "* colab 경로 : https://colab.research.google.com/github/corazzon/seoul-bike-analysis/blob/master/crawling.ipynb"
   ]
  },
  {
   "cell_type": "code",
   "execution_count": null,
   "metadata": {},
   "outputs": [],
   "source": [
    "# 라이브러리 로드\n",
    "# requests는 작은 웹브라우저로 웹사이트 내용을 가져온다.\n",
    "import requests\n",
    "# BeautifulSoup 을 통해 읽어 온 웹페이지를 파싱한다.\n",
    "from bs4 import BeautifulSoup as bs\n",
    "# random은 랜덤한 시간차를 두고 가져오기 위해 사용한다.\n",
    "import random\n",
    "# time 으로 시간을 구한다.\n",
    "import time\n",
    "# 크롤링 후 결과를 데이터프레임 형태로 보기 위해 불러온다.\n",
    "import pandas as pd"
   ]
  },
  {
   "cell_type": "code",
   "execution_count": null,
   "metadata": {},
   "outputs": [],
   "source": [
    "# 크롤링 할 사이트\n",
    "base_url = 'https://www.bikeseoul.com/app/station/moveStationSearchView.do?currentPageNo='\n",
    "\n",
    "# 전체 대여소 정보를 담아줄 비어있는 리스트를 만든다.\n",
    "all_stations = []\n",
    "\n",
    "def crawling_rent_station(pnum):\n",
    "    response = requests.get( base_url + str(pnum))\n",
    "        \n",
    "    if response.status_code != 200:\n",
    "        return False\n",
    "    \n",
    "    soup = bs(response.text, 'html.parser')\n",
    "    tbody = soup.select('table.psboard1 > tbody')\n",
    "    \n",
    "    if not tbody:\n",
    "        return False\n",
    "    \n",
    "    # response의 tbody 값을 전달해 각 대여소의 상세 정보를 받아온다.\n",
    "    stations = station_info(tbody)\n",
    "    # www.bikeseoul.com 사이트의 서버에 부담을 덜 주기 위해 시간차를 두고 가져온다.\n",
    "    time.sleep(random.uniform(1,3))\n",
    "    if stations:\n",
    "        # 크롤링 해서 가져온 대여소 정보를 리스트에 담아 줍니다.\n",
    "        all_stations.extend(stations)\n",
    "\n",
    "        # 이전 결과가 있다면 페이지번호를 하나씩 더해서 재귀호출을 한다.\n",
    "        pnum += 1\n",
    "        # 몇 페이지를 크롤링 하고 있는지 찍어본다. \n",
    "        # 다 찍기엔 너무 많아서 10페이지에 한 번씩 출력하도록 한다.\n",
    "        # 페이지 수를 크롤링 하기 전에 미리 알고 크롤링을 한다면 tqdm을 사용하는 것이 좋다.\n",
    "        # 2019년 8월 자전거 대여소 페이지수는 307개 이다.\n",
    "        if pnum % 10 == 0 :\n",
    "            print(pnum)\n",
    "\n",
    "        # 같은 함수를 재귀호출해서 실행한다.\n",
    "        return crawling_rent_station(pnum)\n",
    "    else:\n",
    "        return all_stations"
   ]
  },
  {
   "cell_type": "code",
   "execution_count": null,
   "metadata": {},
   "outputs": [],
   "source": [
    "def station_info(tbody):\n",
    "    if tbody: \n",
    "        trs = tbody[0].find_all('tr')\n",
    "        rent_stations = []\n",
    "        for tr in trs:\n",
    "            # 대여소 정보를 담아준다.\n",
    "            info = []\n",
    "            # 대여소명\n",
    "            name = tr.select('td.pl10')[0].get_text(strip=True)\n",
    "            if '.' in name:\n",
    "                info.append(name.split('.')[0].strip())\n",
    "                info.append(name.split('.')[-1].lstrip())\n",
    "            else:\n",
    "                # 대여소 정보가 없다면 결측치로 처리한다.\n",
    "                info.append(pd.np.nan)\n",
    "                info.append(name)\n",
    "            # 운영여부\n",
    "            info.append(tr.select('td.pl10')[1].get_text(strip=True))\n",
    "            # 주소\n",
    "            info.append(tr.select('td.mhid')[0].get_text(strip=True))\n",
    "            # 위도, 경도\n",
    "            geo = tr.find('a')['param-data'].split(',')\n",
    "            info.append(geo[0])\n",
    "            info.append(geo[1])\n",
    "            rent_stations.append(info)\n",
    "        return rent_stations\n",
    "    else :\n",
    "        return False"
   ]
  },
  {
   "cell_type": "code",
   "execution_count": null,
   "metadata": {},
   "outputs": [],
   "source": [
    "# 전체를 돌려보기 전에 일부만 돌려본다.\n",
    "crawling_rent_station(306)"
   ]
  },
  {
   "cell_type": "code",
   "execution_count": null,
   "metadata": {},
   "outputs": [],
   "source": [
    "all_stations"
   ]
  },
  {
   "cell_type": "code",
   "execution_count": null,
   "metadata": {},
   "outputs": [],
   "source": [
    "pd.DataFrame(all_stations).sample()"
   ]
  },
  {
   "cell_type": "code",
   "execution_count": null,
   "metadata": {},
   "outputs": [],
   "source": [
    "# 전체 코드를 돌리기 전에 다시 리스트를 비워준다.\n",
    "all_stations = []\n",
    "# 아래의 pnum에 1을 입력하면 1페이지부터 끝까지 가져온다.\n",
    "# pnum에 306 을 306페이지부터 끝까지 가져온다.\n",
    "# pnum = 1\n",
    "pnum = 300\n",
    "# 크롤링 함수를 호출한다.\n",
    "crawling_rent_station(pnum)"
   ]
  },
  {
   "cell_type": "code",
   "execution_count": null,
   "metadata": {},
   "outputs": [],
   "source": [
    "# 크롤링한 전체 결과를 프린트 한다.\n",
    "all_stations[:2]"
   ]
  },
  {
   "cell_type": "code",
   "execution_count": null,
   "metadata": {},
   "outputs": [],
   "source": [
    "header = ['대여소번호', '대여소', '상태', '주소', '위도', '경도']\n",
    "df = pd.DataFrame.from_records(all_stations, columns = header)\n",
    "df.shape"
   ]
  },
  {
   "cell_type": "code",
   "execution_count": null,
   "metadata": {
    "scrolled": true
   },
   "outputs": [],
   "source": [
    "df.head()"
   ]
  },
  {
   "cell_type": "code",
   "execution_count": null,
   "metadata": {},
   "outputs": [],
   "source": [
    "df.tail()"
   ]
  },
  {
   "cell_type": "code",
   "execution_count": null,
   "metadata": {},
   "outputs": [],
   "source": [
    "df.to_csv('bike_rent_station.csv', index=False)"
   ]
  },
  {
   "cell_type": "code",
   "execution_count": null,
   "metadata": {},
   "outputs": [],
   "source": [
    "# 파일이 제대로 생성되었는지 확인\n",
    "pd.read_csv('bike_rent_station.csv').head()"
   ]
  },
  {
   "cell_type": "code",
   "execution_count": null,
   "metadata": {},
   "outputs": [],
   "source": []
  }
 ],
 "metadata": {
  "kernelspec": {
   "display_name": "Python 3",
   "language": "python",
   "name": "python3"
  },
  "language_info": {
   "codemirror_mode": {
    "name": "ipython",
    "version": 3
   },
   "file_extension": ".py",
   "mimetype": "text/x-python",
   "name": "python",
   "nbconvert_exporter": "python",
   "pygments_lexer": "ipython3",
   "version": "3.7.3"
  },
  "varInspector": {
   "cols": {
    "lenName": 16,
    "lenType": 16,
    "lenVar": 40
   },
   "kernels_config": {
    "python": {
     "delete_cmd_postfix": "",
     "delete_cmd_prefix": "del ",
     "library": "var_list.py",
     "varRefreshCmd": "print(var_dic_list())"
    },
    "r": {
     "delete_cmd_postfix": ") ",
     "delete_cmd_prefix": "rm(",
     "library": "var_list.r",
     "varRefreshCmd": "cat(var_dic_list()) "
    }
   },
   "types_to_exclude": [
    "module",
    "function",
    "builtin_function_or_method",
    "instance",
    "_Feature"
   ],
   "window_display": false
  }
 },
 "nbformat": 4,
 "nbformat_minor": 2
}
