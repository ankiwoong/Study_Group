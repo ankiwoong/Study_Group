{
 "cells": [
  {
   "cell_type": "markdown",
   "metadata": {},
   "source": [
    "# 서울특별시 공공자전거 따릉이 대여이력 연도별 전처리"
   ]
  },
  {
   "cell_type": "code",
   "execution_count": null,
   "metadata": {},
   "outputs": [],
   "source": [
    "import pandas as pd\n",
    "import numpy as np\n",
    "import os"
   ]
  },
  {
   "cell_type": "code",
   "execution_count": null,
   "metadata": {},
   "outputs": [],
   "source": [
    "%ls data/"
   ]
  },
  {
   "cell_type": "code",
   "execution_count": null,
   "metadata": {},
   "outputs": [],
   "source": [
    "def preprocessing(df):\n",
    "    # 컬럼에 있는 '를 제거한다.\n",
    "    df.columns = df.columns.str.strip(\"'\")\n",
    "    # 불필요하게 '가 들어가 있다. 스트링 타입으로 되어있는 데이터에서 '을 제거하자.\n",
    "    df = df.apply(lambda x: x.str.strip(\"'\") if x.dtype == np.dtype('object') else x)\n",
    "    return df"
   ]
  },
  {
   "cell_type": "code",
   "execution_count": null,
   "metadata": {},
   "outputs": [],
   "source": [
    "# 컬럼명이 2017년을 기점으로 달라지기 때문에 최근 컬럼에 맞게 컬럼명을 변경해 준다.\n",
    "# 우선 최근 컬럼명을 가져온다.\n",
    "df_for_columns = pd.read_csv(\"data/서울특별시 공공자전거 대여이력 정보_2018년_2분기_4.csv\", \n",
    "                             encoding=\"cp949\")\n",
    "df_for_columns.columns = df_for_columns.columns.str.strip(\"'\")\n",
    "cols = df_for_columns.columns\n",
    "len(cols)"
   ]
  },
  {
   "cell_type": "code",
   "execution_count": null,
   "metadata": {},
   "outputs": [],
   "source": [
    "# df = pd.read_excel('data/서울특별시 공공자전거 대여정보_201807_01.xlsx', encoding='cp949')\n",
    "# df.head()"
   ]
  },
  {
   "cell_type": "code",
   "execution_count": null,
   "metadata": {},
   "outputs": [],
   "source": [
    "def get_file_list_by_year(year):\n",
    "    file_list = []\n",
    "    for root, dirs, files in os.walk(\"data/\"):\n",
    "        for filename in files:\n",
    "            if filename.startswith(f'서울특별시 공공자전거 대여이력 정보_{year}년'):\n",
    "                file_list.append(filename)\n",
    "            elif filename.startswith(f'서울특별시 공공자전거 대여정보_{year}'):\n",
    "                file_list.append(filename)\n",
    "    return sorted(file_list)\n",
    "\n",
    "get_file_list_by_year(2019)"
   ]
  },
  {
   "cell_type": "code",
   "execution_count": null,
   "metadata": {},
   "outputs": [],
   "source": [
    "def concat_data(year):\n",
    "    df_lists = []\n",
    "    # 파일별로 데이터를 가져온다.\n",
    "    files = get_file_list_by_year(year)\n",
    "    for filename in sorted(files):\n",
    "        # 파일을 읽어온다. csv와 xlsx 파일을 구분해 불러온다.\n",
    "        df_temp = read_file(filename, year)\n",
    "        print(df_temp)\n",
    "        # 해당 데이터프레임이 비어있지 않다면 병합하기 위해 리스트에 담는다.\n",
    "        if not df_temp.empty :\n",
    "            print(filename, df_temp.shape)\n",
    "            df_lists.append(df_temp)\n",
    "    # 리스트가 비어있지 않다면 데이터프레임을 합쳐준다.       \n",
    "    if df_lists :    \n",
    "        df = pd.concat(df_lists)\n",
    "    return df        "
   ]
  },
  {
   "cell_type": "code",
   "execution_count": null,
   "metadata": {},
   "outputs": [],
   "source": [
    "def read_file(filename, year):\n",
    "    folder_path = 'data/'\n",
    "    if filename.startswith(f'서울특별시 공공자전거 대여이력 정보_{year}년'):\n",
    "        # 서울시 정보소통광장에서 다운로드 받은 데이터의 인코딩이 cp949이기 때문에 인코딩을 지정해 주어야 한다.\n",
    "        df_temp = pd.read_csv(folder_path+filename, encoding='cp949', low_memory=False)\n",
    "        # 데이터에 불필요한 따옴표(')가 들어가 있다. 제거해 준다.\n",
    "        df_temp = preprocessing(df_temp)\n",
    "        # 2017년 중간에 컬럼명이 변경되었다. 2018년 이전 데이터에 대해서 최근 컬럼으로 컬럼명을 변경해 준다. \n",
    "        # 최근 컬럼명 cols는 위 셀에서 구한 것을 사용한다.\n",
    "        if year < 2018 :\n",
    "            df_temp.columns = cols\n",
    "    elif filename.startswith(f'서울특별시 공공자전거 대여정보_{year}') and filename.endswith(f'xlsx'):\n",
    "        df_temp = pd.read_excel(folder_path+filename, encoding='cp949')\n",
    "        df_temp.columns = cols\n",
    "        \n",
    "    elif filename.startswith(f'서울특별시 공공자전거 대여정보_{year}') and filename.endswith(f'csv'):\n",
    "        df_temp = pd.read_csv(folder_path+filename, encoding='cp949')\n",
    "        df_temp.columns = cols\n",
    "    else:\n",
    "        df_temp = pd.DataFrame([])\n",
    "    return  df_temp"
   ]
  },
  {
   "cell_type": "code",
   "execution_count": null,
   "metadata": {},
   "outputs": [],
   "source": [
    "%time df_2016 = concat_data(2016)\n",
    "print(df_2016.shape)"
   ]
  },
  {
   "cell_type": "code",
   "execution_count": null,
   "metadata": {},
   "outputs": [],
   "source": [
    "%time df_2017 = concat_data(2017)\n",
    "print(df_2017.shape)"
   ]
  },
  {
   "cell_type": "code",
   "execution_count": null,
   "metadata": {},
   "outputs": [],
   "source": [
    "%time df_2018 = concat_data(2018)\n",
    "print(df_2018.shape)"
   ]
  },
  {
   "cell_type": "code",
   "execution_count": null,
   "metadata": {},
   "outputs": [],
   "source": [
    "filename = \"서울특별시 공공자전거 대여정보_201905.csv\"\n",
    "year = 2019\n",
    "read_file(filename, year).head()"
   ]
  },
  {
   "cell_type": "code",
   "execution_count": null,
   "metadata": {},
   "outputs": [],
   "source": [
    "filename.startswith(f'서울특별시 공공자전거 대여정보_{year}')\n",
    "# filename.endswith(f'csv')"
   ]
  },
  {
   "cell_type": "code",
   "execution_count": null,
   "metadata": {
    "scrolled": false
   },
   "outputs": [],
   "source": [
    "%time df_2019 = concat_data(2019)\n",
    "print(df_2019.shape)"
   ]
  },
  {
   "cell_type": "code",
   "execution_count": null,
   "metadata": {},
   "outputs": [],
   "source": [
    "df_2019.head()"
   ]
  },
  {
   "cell_type": "code",
   "execution_count": null,
   "metadata": {},
   "outputs": [],
   "source": [
    "df_2019[\"자전거번호SPB\"] = df_2019[\"자전거번호\"].apply(lambda x: x.split(\"-\")[0])\n",
    "df_2019[\"자전거번호No\"] = df_2019[\"자전거번호\"].apply(lambda x: x.split(\"-\")[1])"
   ]
  },
  {
   "cell_type": "code",
   "execution_count": null,
   "metadata": {},
   "outputs": [],
   "source": [
    "df_2019[\"자전거번호SPB\"].unique()"
   ]
  },
  {
   "cell_type": "code",
   "execution_count": null,
   "metadata": {},
   "outputs": [],
   "source": [
    "df_2019[\"대여대여소명\"].isnull().sum()"
   ]
  },
  {
   "cell_type": "code",
   "execution_count": null,
   "metadata": {},
   "outputs": [],
   "source": [
    "df_2019[\"반납대여소명\"].isnull().sum()"
   ]
  },
  {
   "cell_type": "code",
   "execution_count": null,
   "metadata": {},
   "outputs": [],
   "source": [
    "df_2016.head()"
   ]
  },
  {
   "cell_type": "code",
   "execution_count": null,
   "metadata": {},
   "outputs": [],
   "source": [
    "df_2017.head()"
   ]
  },
  {
   "cell_type": "code",
   "execution_count": null,
   "metadata": {},
   "outputs": [],
   "source": [
    "df_2018.head()"
   ]
  },
  {
   "cell_type": "code",
   "execution_count": null,
   "metadata": {},
   "outputs": [],
   "source": [
    "years = [2016, 2017, 2018, 2019]\n",
    "for year in years:\n",
    "    df = eval('df_'+str(year))\n",
    "    df.to_csv('data/seoul-bike-{}.csv'.format(year), index=False)   \n",
    "    print(df.shape)"
   ]
  },
  {
   "cell_type": "code",
   "execution_count": null,
   "metadata": {},
   "outputs": [],
   "source": [
    "# 파일이 제대로 생성되었는지 확인한다.\n",
    "%ls data/seoul-bike*"
   ]
  },
  {
   "cell_type": "code",
   "execution_count": null,
   "metadata": {},
   "outputs": [],
   "source": [
    "# 생성된 파일 안에 내용이 제대로 들어가 있는지 확인한다.\n",
    "df_2018 = pd.read_csv('data/seoul-bike-2018.csv', low_memory=False)\n",
    "print(df_2018.shape)\n",
    "df_2018.head()"
   ]
  },
  {
   "cell_type": "code",
   "execution_count": null,
   "metadata": {},
   "outputs": [],
   "source": []
  }
 ],
 "metadata": {
  "kernelspec": {
   "display_name": "Python 3",
   "language": "python",
   "name": "python3"
  },
  "language_info": {
   "codemirror_mode": {
    "name": "ipython",
    "version": 3
   },
   "file_extension": ".py",
   "mimetype": "text/x-python",
   "name": "python",
   "nbconvert_exporter": "python",
   "pygments_lexer": "ipython3",
   "version": "3.6.1"
  },
  "varInspector": {
   "cols": {
    "lenName": 16,
    "lenType": 16,
    "lenVar": 40
   },
   "kernels_config": {
    "python": {
     "delete_cmd_postfix": "",
     "delete_cmd_prefix": "del ",
     "library": "var_list.py",
     "varRefreshCmd": "print(var_dic_list())"
    },
    "r": {
     "delete_cmd_postfix": ") ",
     "delete_cmd_prefix": "rm(",
     "library": "var_list.r",
     "varRefreshCmd": "cat(var_dic_list()) "
    }
   },
   "types_to_exclude": [
    "module",
    "function",
    "builtin_function_or_method",
    "instance",
    "_Feature"
   ],
   "window_display": false
  }
 },
 "nbformat": 4,
 "nbformat_minor": 2
}
