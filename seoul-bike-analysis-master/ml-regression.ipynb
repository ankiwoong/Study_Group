{
 "cells": [
  {
   "cell_type": "markdown",
   "metadata": {},
   "source": [
    "[![Open In Colab](https://colab.research.google.com/assets/colab-badge.svg)](https://colab.research.google.com/github/corazzon/seoul-bike-analysis/blob/master/ml-regression.ipynb)"
   ]
  },
  {
   "cell_type": "markdown",
   "metadata": {},
   "source": [
    "# 여의나루역(대여소 번호 207)에서 대여하고 반납한 자전거의 이력을 분석\n",
    "* 여의나루역은 같은 대여소에서 대여반납이 가장 많은 지역\n",
    "* 대여와 반납이 여의나루역인 데이터\n",
    "* 2017년 1월부터 2019년 5월까지의 데이터를 사용"
   ]
  },
  {
   "cell_type": "code",
   "execution_count": null,
   "metadata": {},
   "outputs": [],
   "source": [
    "import pandas as pd\n",
    "import numpy as np\n",
    "import seaborn as sns\n",
    "import matplotlib as mpl\n",
    "import matplotlib.pyplot as plt\n",
    "\n",
    "# Window 의 한글 폰트 설정\n",
    "# plt.rc('font',family='Malgun Gothic')\n",
    "# Mac 의 한글 폰트 설정\n",
    "plt.rc('font', family='AppleGothic') \n",
    "plt.rc('axes', unicode_minus=False)\n",
    "\n",
    "%matplotlib inline"
   ]
  },
  {
   "cell_type": "markdown",
   "metadata": {},
   "source": [
    "## Colab 에서 실행을 위한 코드\n",
    "* colab : https://colab.research.google.com/github/corazzon/seoul-bike-analysis/blob/master/ml-regression.ipynb\n",
    "* 아래의 코드는 google colaboratory 에서 실행을 위한 코드로 로컬 아나콘다에서는 주석처리한다.\n",
    "* google colaboratory 에서는 주석을 풀고 폰트 설정과 csv 파일을 불러온다."
   ]
  },
  {
   "cell_type": "code",
   "execution_count": null,
   "metadata": {},
   "outputs": [],
   "source": [
    "# # 나눔고딕 설치\n",
    "# !apt -qq -y install fonts-nanum > /dev/null\n",
    "\n",
    "# import matplotlib.font_manager as fm\n",
    "\n",
    "# fontpath = '/usr/share/fonts/truetype/nanum/NanumBarunGothic.ttf'\n",
    "# font = fm.FontProperties(fname=fontpath, size=9)\n",
    "# fm._rebuild()\n",
    "\n",
    "# # 그래프에 retina display 적용\n",
    "# %config InlineBackend.figure_format = 'retina'\n",
    "\n",
    "# # Colab 의 한글 폰트 설정\n",
    "# plt.rc('font', family='NanumBarunGothic') "
   ]
  },
  {
   "cell_type": "code",
   "execution_count": null,
   "metadata": {},
   "outputs": [],
   "source": [
    "# # 구글 드라이브에서 csv 파일을 읽어오기 위해 gauth 인증을 한다.\n",
    "# !pip install -U -q PyDrive\n",
    "# from pydrive.auth import GoogleAuth\n",
    "# from pydrive.drive import GoogleDrive\n",
    "# from google.colab import auth\n",
    "# from oauth2client.client import GoogleCredentials\n",
    "\n",
    "# # PyDrive client 인증\n",
    "# auth.authenticate_user()\n",
    "# gauth = GoogleAuth()\n",
    "# gauth.credentials = GoogleCredentials.get_application_default()\n",
    "# drive = GoogleDrive(gauth)"
   ]
  },
  {
   "cell_type": "code",
   "execution_count": null,
   "metadata": {},
   "outputs": [],
   "source": [
    "# # 공유 가능한 링크로 파일 가져오기\n",
    "# url ='https://drive.google.com/open?id=1ngU6y2Fl0cz6ckCuWvXSHKs5aLsh48TH'\n",
    "# id = url.split('=')[1]\n",
    "# print(id)\n",
    "# downloaded = drive.CreateFile({'id':id}) \n",
    "# # data 폴더에 파일을 관리하며, 폴더가 없다면 만들어서 파일을 관리하도록 한다.\n",
    "# %mkdir data\n",
    "# downloaded.GetContentFile('data/bike-station-207.csv')  "
   ]
  },
  {
   "cell_type": "code",
   "execution_count": null,
   "metadata": {},
   "outputs": [],
   "source": [
    "df = pd.read_csv(\"data/bike-station-207.csv\", low_memory=False)\n",
    "\n",
    "df.shape"
   ]
  },
  {
   "cell_type": "code",
   "execution_count": null,
   "metadata": {},
   "outputs": [],
   "source": [
    "# 반납, 대여 모두 같은 207로 데이터 크기를 줄여서 예측한다.\n",
    "df = df[(df[\"대여대여소번호\"] == 207) & (df[\"반납대여소번호\"] == 207)].copy()"
   ]
  },
  {
   "cell_type": "code",
   "execution_count": null,
   "metadata": {},
   "outputs": [],
   "source": [
    "df.shape"
   ]
  },
  {
   "cell_type": "code",
   "execution_count": null,
   "metadata": {
    "scrolled": true
   },
   "outputs": [],
   "source": [
    "df.head(3)"
   ]
  },
  {
   "cell_type": "code",
   "execution_count": null,
   "metadata": {},
   "outputs": [],
   "source": [
    "df.tail(3)"
   ]
  },
  {
   "cell_type": "code",
   "execution_count": null,
   "metadata": {
    "scrolled": true
   },
   "outputs": [],
   "source": [
    "df.info()"
   ]
  },
  {
   "cell_type": "code",
   "execution_count": null,
   "metadata": {},
   "outputs": [],
   "source": [
    "# object 타입에는 .dt accessor를 사용할 수 없기 때문에\n",
    "# 대여일시와 반납일시를 datetime 형태로 변환해 줍니다.\n",
    "df[\"대여일시\"] = pd.to_datetime(df[\"대여일시\"])\n",
    "df[\"반납일시\"] = pd.to_datetime(df[\"반납일시\"])\n",
    "\n",
    "df[[\"대여일시\", \"반납일시\"]].dtypes"
   ]
  },
  {
   "cell_type": "code",
   "execution_count": null,
   "metadata": {},
   "outputs": [],
   "source": [
    "df[\"대여연도\"] = df[\"대여일시\"].dt.year\n",
    "df[\"대여월\"] = df[\"대여일시\"].dt.month\n",
    "df[\"대여일\"] = df[\"대여일시\"].dt.day\n",
    "df[\"대여시간\"] = df[\"대여일시\"].dt.hour\n",
    "df[\"대여요일\"] = df[\"대여일시\"].dt.dayofweek\n",
    "df[\"대여일자\"] = df[\"대여일시\"].dt.date\n",
    "\n",
    "df.sample()"
   ]
  },
  {
   "cell_type": "code",
   "execution_count": null,
   "metadata": {},
   "outputs": [],
   "source": [
    "df[\"반납연도\"] = df[\"반납일시\"].dt.year\n",
    "df[\"반납월\"] = df[\"반납일시\"].dt.month\n",
    "df[\"반납일\"] = df[\"반납일시\"].dt.day\n",
    "df[\"반납시간\"] = df[\"반납일시\"].dt.hour\n",
    "df[\"반납요일\"] = df[\"반납일시\"].dt.dayofweek\n",
    "df[\"반납일자\"] = df[\"반납일시\"].dt.date\n",
    "\n",
    "df.sample()"
   ]
  },
  {
   "cell_type": "code",
   "execution_count": null,
   "metadata": {},
   "outputs": [],
   "source": [
    "df.columns"
   ]
  },
  {
   "cell_type": "markdown",
   "metadata": {},
   "source": [
    "# 학습과 예측에 사용할 컬럼 만들기"
   ]
  },
  {
   "cell_type": "code",
   "execution_count": null,
   "metadata": {},
   "outputs": [],
   "source": [
    "# 학습과 예측에 사용할 컬럼\n",
    "# 이용거리를 피처에 추가하고 제외해 본다.\n",
    "feature_columns = ['자전거번호SPB', '대여대여소번호', '반납대여소번호','이용시간(분)',\n",
    "       '대여연도', '대여월', '대여일', '대여시간', '대여요일', '반납연도', '반납월', '반납일',\n",
    "       '반납시간', '반납요일']\n",
    "feature_columns"
   ]
  },
  {
   "cell_type": "code",
   "execution_count": null,
   "metadata": {},
   "outputs": [],
   "source": [
    "label_column = \"이용거리(M)\"\n",
    "label_column"
   ]
  },
  {
   "cell_type": "markdown",
   "metadata": {},
   "source": [
    "# 학습과 예측에 사용할 데이터 세트 나누기"
   ]
  },
  {
   "cell_type": "code",
   "execution_count": null,
   "metadata": {},
   "outputs": [],
   "source": [
    "df[label_column].describe()"
   ]
  },
  {
   "cell_type": "code",
   "execution_count": null,
   "metadata": {},
   "outputs": [],
   "source": [
    "df[df[label_column] == df[label_column].max()]"
   ]
  },
  {
   "cell_type": "code",
   "execution_count": null,
   "metadata": {},
   "outputs": [],
   "source": [
    "# 90% 는 학습에 사용하고 10%는 예측에 사용합니다.\n",
    "split_index = round(df.shape[0] * 0.9)\n",
    "split_index"
   ]
  },
  {
   "cell_type": "code",
   "execution_count": null,
   "metadata": {},
   "outputs": [],
   "source": [
    "# 데이터를 학습과 예측에 사용할 용도로 나눕니다.\n",
    "# 파이썬의 슬라이싱 기능을 활용해서 나눕니다.\n",
    "train = df[:split_index].copy()\n",
    "test = df[split_index:].copy()\n",
    "\n",
    "print(\"학습 데이터 크기\", train.shape)\n",
    "print(\"테스트 데이터 크기\", test.shape)"
   ]
  },
  {
   "cell_type": "code",
   "execution_count": null,
   "metadata": {},
   "outputs": [],
   "source": [
    "# 학습, 예측에 사용할 컬럼만 추출\n",
    "X_train = train[feature_columns].copy()\n",
    "X_test = test[feature_columns].copy()\n",
    "\n",
    "print(\"학습에 사용할 피처 크기\", X_train.shape)\n",
    "print(\"예측에 사용할 피처 크기\", X_test.shape)"
   ]
  },
  {
   "cell_type": "code",
   "execution_count": null,
   "metadata": {},
   "outputs": [],
   "source": [
    "y_train = train[label_column]\n",
    "y_train.head()"
   ]
  },
  {
   "cell_type": "markdown",
   "metadata": {},
   "source": [
    "# 머신러닝 모델을 사용해서 학습과 예측하기"
   ]
  },
  {
   "cell_type": "markdown",
   "metadata": {},
   "source": [
    "## 랜덤포레스트 사용하기"
   ]
  },
  {
   "cell_type": "code",
   "execution_count": null,
   "metadata": {},
   "outputs": [],
   "source": [
    "from sklearn.ensemble import RandomForestRegressor\n",
    "\n",
    "# n_estimators 는 트리의 갯수를 의미하며\n",
    "# random_state 는 옵션값을 고정해서 동일 조건에서 같은 값을 반환하도록 한다.\n",
    "# n_jobs 는 사용할 CPU의 코어수를 지정하는데 -1로 지정하면 장비에 있는 CPU코어를 모두 사용하게 한다.\n",
    "\n",
    "# 모델 선언\n",
    "rfr = RandomForestRegressor(n_estimators=10, random_state=42, n_jobs=-1)\n",
    "# 학습\n",
    "rfr.fit(X_train, y_train)"
   ]
  },
  {
   "cell_type": "code",
   "execution_count": null,
   "metadata": {},
   "outputs": [],
   "source": [
    "# 예측\n",
    "y_predict_rfr = rfr.predict(X_test)\n",
    "y_predict_rfr[:5]"
   ]
  },
  {
   "cell_type": "code",
   "execution_count": null,
   "metadata": {},
   "outputs": [],
   "source": [
    "# 예측값을 정답값과 비교하기 위해 test 데이터프레임에 담아준다.\n",
    "test[\"예측거리(M)(RF)\"] = y_predict_rfr"
   ]
  },
  {
   "cell_type": "code",
   "execution_count": null,
   "metadata": {},
   "outputs": [],
   "source": [
    "# 실제값과 예측값을 비교하기 위해 예측의 정답값을 가져온다.\n",
    "y_test = test[label_column]"
   ]
  },
  {
   "cell_type": "markdown",
   "metadata": {},
   "source": [
    "### 평가 지표(Evaluation Metrics)"
   ]
  },
  {
   "cell_type": "code",
   "execution_count": null,
   "metadata": {},
   "outputs": [],
   "source": [
    "# 성능 평가 비교를 위해 score 변수를 만든다.\n",
    "score = {}\n",
    "score[\"RF\"] = {}"
   ]
  },
  {
   "cell_type": "code",
   "execution_count": null,
   "metadata": {},
   "outputs": [],
   "source": [
    "# MAE - Mean Absolute Error\n",
    "# 실제값과 예측값의 차이에 절대값을 씌운 후 평균을 구한다.\n",
    "score[\"RF\"][\"MAE\"] = abs(y_predict_rfr - y_test).mean()\n",
    "score[\"RF\"][\"MAE\"]"
   ]
  },
  {
   "cell_type": "code",
   "execution_count": null,
   "metadata": {},
   "outputs": [],
   "source": [
    "# RMSE - Root Mean Square Error\n",
    "# 실제값과 예측값의 차이에 제곱을 해서 음수를 양수로 만들고 평균값을 구한 후 루트를 씌워준다.\n",
    "score[\"RF\"][\"RMSE\"] = np.sqrt(\n",
    "    ((y_predict_rfr - y_test)**2).mean()\n",
    ")\n",
    "score[\"RF\"][\"RMSE\"]"
   ]
  },
  {
   "cell_type": "code",
   "execution_count": null,
   "metadata": {},
   "outputs": [],
   "source": [
    "test[[label_column, \"예측거리(M)(RF)\"]].head()"
   ]
  },
  {
   "cell_type": "markdown",
   "metadata": {},
   "source": [
    "# Lgbm 사용하기"
   ]
  },
  {
   "cell_type": "code",
   "execution_count": null,
   "metadata": {},
   "outputs": [],
   "source": [
    "import lightgbm as lgbm\n",
    "\n",
    "def runLGBM(X_train, y_train, X_test, seed_val=42):\n",
    "    params = {\n",
    "        'boosting_type': 'gbdt', 'objective': 'regression', 'nthread': -1, 'verbose': 0,\n",
    "        'num_leaves': 31, 'learning_rate': 0.05, 'max_depth': -1,\n",
    "        'subsample': 0.8, 'subsample_freq': 1, 'colsample_bytree': 0.6, \n",
    "        'reg_alpha': 1, 'reg_lambda': 0.001, 'metric': 'rmse',\n",
    "        'min_split_gain': 0.5, 'min_child_weight': 1, 'min_child_samples': 10, 'scale_pos_weight': 1}\n",
    "    \n",
    "    pred_test_y = np.zeros(X_test.shape[0])\n",
    "    \n",
    "    train_set = lgbm.Dataset(X_train, y_train, silent=True)\n",
    "        \n",
    "    model = lgbm.train(params, train_set=train_set, num_boost_round=300)\n",
    "    pred_test_y = model.predict(X_test, num_iteration = model.best_iteration)\n",
    "        \n",
    "    return pred_test_y , model"
   ]
  },
  {
   "cell_type": "code",
   "execution_count": null,
   "metadata": {},
   "outputs": [],
   "source": [
    "y_predict_lgbm, model = runLGBM(X_train, y_train, X_test, seed_val=42)"
   ]
  },
  {
   "cell_type": "code",
   "execution_count": null,
   "metadata": {},
   "outputs": [],
   "source": [
    "test[\"예측거리(M)(LGBM)\"] = y_predict_lgbm"
   ]
  },
  {
   "cell_type": "markdown",
   "metadata": {},
   "source": [
    "### 평가 지표(Evaluation Metrics)"
   ]
  },
  {
   "cell_type": "code",
   "execution_count": null,
   "metadata": {},
   "outputs": [],
   "source": [
    "score[\"LGBM\"] = {}"
   ]
  },
  {
   "cell_type": "code",
   "execution_count": null,
   "metadata": {},
   "outputs": [],
   "source": [
    "# MAE - Mean Absolute Error\n",
    "# 실제값과 예측값의 차이에 절대값을 씌운 후 평균을 구한다.\n",
    "score[\"LGBM\"][\"MAE\"] = abs(y_predict_lgbm - y_test).mean()\n",
    "score[\"LGBM\"][\"MAE\"]"
   ]
  },
  {
   "cell_type": "code",
   "execution_count": null,
   "metadata": {},
   "outputs": [],
   "source": [
    "# RMSE - Root Mean Square Error\n",
    "# 실제값과 예측값의 차이에 제곱을 해서 음수를 양수로 만들고 평균값을 구한 후 루트를 씌워준다.\n",
    "score[\"LGBM\"][\"RMSE\"] = np.sqrt(\n",
    "    ((y_predict_lgbm - y_test)**2).mean()\n",
    ")\n",
    "score[\"LGBM\"][\"RMSE\"]"
   ]
  },
  {
   "cell_type": "code",
   "execution_count": null,
   "metadata": {},
   "outputs": [],
   "source": [
    "score"
   ]
  },
  {
   "cell_type": "markdown",
   "metadata": {},
   "source": [
    "### 실제값과 예측값을 시각화\n",
    "* KDE 플롯으로 이용거리에 대한 분포를 그린다."
   ]
  },
  {
   "cell_type": "code",
   "execution_count": null,
   "metadata": {},
   "outputs": [],
   "source": [
    "plt.figure(figsize=(15, 5))\n",
    "sns.distplot(test[label_column], label=label_column, hist=False)\n",
    "sns.distplot(test[\"예측거리(M)(RF)\"], label=\"예측거리(M)(RF)\", hist=False)\n",
    "sns.distplot(test[\"예측거리(M)(LGBM)\"], label=\"예측거리(M)(LGBM)\", hist=False)"
   ]
  },
  {
   "cell_type": "code",
   "execution_count": null,
   "metadata": {},
   "outputs": [],
   "source": []
  },
  {
   "cell_type": "markdown",
   "metadata": {},
   "source": [
    "## 튜토리얼 만족도 설문\n",
    "\n",
    "튜토리얼에 참여해 주셔서 감사합니다. 설문을 부탁드립니다. https://forms.gle/DPgkHozJNyGFACSv6"
   ]
  },
  {
   "cell_type": "code",
   "execution_count": null,
   "metadata": {},
   "outputs": [],
   "source": []
  }
 ],
 "metadata": {
  "kernelspec": {
   "display_name": "Python 3",
   "language": "python",
   "name": "python3"
  },
  "language_info": {
   "codemirror_mode": {
    "name": "ipython",
    "version": 3
   },
   "file_extension": ".py",
   "mimetype": "text/x-python",
   "name": "python",
   "nbconvert_exporter": "python",
   "pygments_lexer": "ipython3",
   "version": "3.7.3"
  },
  "varInspector": {
   "cols": {
    "lenName": 16,
    "lenType": 16,
    "lenVar": 40
   },
   "kernels_config": {
    "python": {
     "delete_cmd_postfix": "",
     "delete_cmd_prefix": "del ",
     "library": "var_list.py",
     "varRefreshCmd": "print(var_dic_list())"
    },
    "r": {
     "delete_cmd_postfix": ") ",
     "delete_cmd_prefix": "rm(",
     "library": "var_list.r",
     "varRefreshCmd": "cat(var_dic_list()) "
    }
   },
   "types_to_exclude": [
    "module",
    "function",
    "builtin_function_or_method",
    "instance",
    "_Feature"
   ],
   "window_display": false
  }
 },
 "nbformat": 4,
 "nbformat_minor": 2
}
